{
 "cells": [
  {
   "cell_type": "markdown",
   "metadata": {},
   "source": [
    "## Before Running:\n",
    "Please Install all from the requirements.txt (pip install -r requirements.txt)."
   ]
  },
  {
   "cell_type": "markdown",
   "metadata": {},
   "source": [
    "## Set Hyper Parameters"
   ]
  },
  {
   "cell_type": "code",
   "execution_count": 2,
   "metadata": {},
   "outputs": [],
   "source": [
    "import torch\n",
    "\n",
    "device = torch.device(\"cuda\" if torch.cuda.is_available() else \"cpu\")\n",
    "encoder_decoder_layers = 3\n",
    "encoder_decoder_heads = 8\n",
    "embedded_dim = 768 # Don't change\n",
    "max_length = 32 \n",
    "coco_dataset_ratio = 50\n",
    "coco_dataset_dir = \"./coco\"\n",
    "vocab_size = 50257 # Don't change\n",
    "batch_size = 64\n",
    "num_epochs = 2\n",
    "learning_rate = 1e-4\n",
    "patience = 3\n",
    "weight_decay = 1e-5\n",
    "preprocess_swin_model = \"microsoft/swin-tiny-patch4-window7-224\"\n",
    "encoder_model = \"microsoft/swin-base-patch4-window7-224-in22k\"\n",
    "decoder_model = \"gpt2\""
   ]
  },
  {
   "cell_type": "markdown",
   "metadata": {},
   "source": [
    "## Downloading and Format datasets\n",
    "This will take some time to finishing running the first time. It took me roughly 40 minutes.\n",
    "\n",
    "This section does the following actions:\n",
    "1. Downloads the Dataset\n",
    "2. Keeps images with only 3 or 4 dim\n",
    "3. Transforms the dataset \n",
    "4. Turns the data set into data loaders\n"
   ]
  },
  {
   "cell_type": "code",
   "execution_count": 7,
   "metadata": {},
   "outputs": [
    {
     "name": "stderr",
     "output_type": "stream",
     "text": [
      "c:\\Programming\\Python3-12-3\\Lib\\site-packages\\datasets\\load.py:1486: FutureWarning: The repository for HuggingFaceM4/COCO contains custom code which must be executed to correctly load the dataset. You can inspect the repository content at https://hf.co/datasets/HuggingFaceM4/COCO\n",
      "You can avoid this message in future by passing the argument `trust_remote_code=True`.\n",
      "Passing `trust_remote_code=True` will be mandatory to load this dataset from the next major release of `datasets`.\n",
      "  warnings.warn(\n"
     ]
    }
   ],
   "source": [
    "import numpy as np\n",
    "from datasets import load_dataset\n",
    "from transformers import ViTImageProcessor, GPT2TokenizerFast, AutoImageProcessor, SwinModel\n",
    "from torch.utils.data import DataLoader, Dataset\n",
    "import torch\n",
    "import os\n",
    "\n",
    "# Download the train, val and test splits of the COCO dataset\n",
    "train_ds = load_dataset(\"HuggingFaceM4/COCO\", split=f\"train[:{coco_dataset_ratio}%]\", cache_dir=coco_dataset_dir)\n",
    "valid_ds = load_dataset(\"HuggingFaceM4/COCO\", split=f\"validation[:{coco_dataset_ratio}%]\", cache_dir=coco_dataset_dir)\n",
    "test_ds = load_dataset(\"HuggingFaceM4/COCO\", split=\"test\", cache_dir=coco_dataset_dir)\n",
    "\n",
    "# Filter all non 3 or 4 dim images out\n",
    "# Can change num_proc, but might be errors with np\n",
    "train_ds = train_ds.filter(lambda item: np.array(item[\"image\"]).ndim in [3, 4], num_proc=1)\n",
    "valid_ds = valid_ds.filter(lambda item: np.array(item[\"image\"]).ndim in [3, 4], num_proc=1)\n",
    "test_ds = test_ds.filter(lambda item: np.array(item[\"image\"]).ndim in [3, 4], num_proc=1)\n",
    "\n",
    "# Does pre processing on the data set\n",
    "# This includes pre-trained ViTimage feature extraction and tokenizing captions\n",
    "tokenizer = GPT2TokenizerFast.from_pretrained(decoder_model)\n",
    "tokenizer.pad_token = tokenizer.eos_token\n",
    "image_processor = ViTImageProcessor.from_pretrained(encoder_model)\n",
    "image_processor_swin = SwinModel.from_pretrained(preprocess_swin_model).to(device)\n",
    "\n",
    "def preprocess(items):\n",
    "    # Image pre-processing\n",
    "    # use ViT and SWIN since no back prop\n",
    "    pixel_values = image_processor(items[\"image\"], return_tensors=\"pt\").pixel_values.to(device)\n",
    "    with torch.no_grad():\n",
    "        pixel_values = image_processor_swin (pixel_values).last_hidden_state\n",
    "    pixel_values = pixel_values.to('cpu')\n",
    "\n",
    "    # tokenize\n",
    "    targets = tokenizer(items[\"sentences\"]['raw'],\n",
    "                        max_length=max_length, padding=\"max_length\", truncation=True, return_tensors=\"pt\")\n",
    "    \n",
    "    # Keep image file for easy examples later\n",
    "    img_file = items['filepath']\n",
    "    return {'pixel_values': pixel_values, 'labels': targets[\"input_ids\"], 'image_file': img_file}\n",
    "\n",
    "\n",
    "TRAIN_SET_PATH = './preprocessed/train_set.pt'\n",
    "TEST_SET_PATH = './preprocessed/val_set.pt'\n",
    "VALID_SET_PATH = './preprocessed/test_set.pt'\n",
    "\n",
    "# Pre process train dataset if it doesn't exist\n",
    "train_dataset = None\n",
    "if os.path.isfile(TRAIN_SET_PATH):\n",
    "    train_dataset = torch.load(TRAIN_SET_PATH)\n",
    "\n",
    "else:\n",
    "    train_dataset = train_ds.map(preprocess)\n",
    "    torch.save(train_dataset, TRAIN_SET_PATH)\n",
    "    \n",
    "# Pre process val dataset if it doesn't exist\n",
    "valid_dataset = None\n",
    "if os.path.isfile(VALID_SET_PATH):\n",
    "    valid_dataset = torch.load(VALID_SET_PATH)\n",
    "\n",
    "else:\n",
    "    valid_dataset = valid_ds.map(preprocess)\n",
    "    torch.save(valid_dataset, VALID_SET_PATH)\n",
    "\n",
    "# Pre process test dataset if it doesn't exist\n",
    "test_dataset = None\n",
    "if os.path.isfile(TEST_SET_PATH):\n",
    "    test_dataset = torch.load(TEST_SET_PATH)\n",
    "\n",
    "else:\n",
    "    test_dataset = test_ds.map(preprocess)\n",
    "    torch.save(test_dataset, TEST_SET_PATH)\n",
    "\n",
    "\n",
    "\n",
    "# Turns the dataset into a torch DataLoader\n",
    "def collate_fn(batch):\n",
    "    return {\n",
    "        'pixel_values': torch.stack([torch.tensor(x['pixel_values']) for x in batch]),\n",
    "        'labels': torch.stack([torch.tensor(x['labels']) for x in batch]),\n",
    "        'image_file': [x[\"image_file\"] for x in batch]\n",
    "    }\n",
    "\n",
    "train_dataset_loader = DataLoader(train_dataset, collate_fn=collate_fn, batch_size=batch_size, shuffle=True)\n",
    "valid_dataset_loader = DataLoader(valid_dataset, collate_fn=collate_fn, batch_size=batch_size, shuffle=False)\n",
    "test_dataset_loader = DataLoader(test_dataset, collate_fn=collate_fn, batch_size=batch_size, shuffle=False)"
   ]
  },
  {
   "cell_type": "markdown",
   "metadata": {},
   "source": [
    "## Define the Model\n",
    "Creates the PureT model from the paper\n",
    "\n",
    "This section does the following actions:\n",
    "1. Creates the SWIN Transformer used by PureT\n",
    "2. Creates the PureT encoder\n",
    "3. Creates the PureT decoder\n",
    "4. Creates the PureT model\n",
    "\n",
    "Download the pre-trained SwinT weights from here https://drive.google.com/drive/folders/1HBw5NGGw8DjkyNurksCP5v8a5f0FG7zU and put them in this folder before running"
   ]
  },
  {
   "cell_type": "code",
   "execution_count": 11,
   "metadata": {},
   "outputs": [
    {
     "name": "stdout",
     "output_type": "stream",
     "text": [
      "tensor([[False,  True,  True,  ...,  True,  True,  True],\n",
      "        [False, False,  True,  ...,  True,  True,  True],\n",
      "        [False, False, False,  ...,  True,  True,  True],\n",
      "        ...,\n",
      "        [False, False, False,  ..., False,  True,  True],\n",
      "        [False, False, False,  ..., False, False,  True],\n",
      "        [False, False, False,  ..., False, False, False]])\n"
     ]
    }
   ],
   "source": [
    "import torch.nn as nn\n",
    "import torch.nn.functional as F\n",
    "import torch\n",
    "from transformers import SwinModel\n",
    "\n",
    "class BasicCaptionTransformer(torch.nn.Module):\n",
    "    def __init__(self):\n",
    "        super(BasicCaptionTransformer, self).__init__()\n",
    "\n",
    "        # Image processing pre-done with ViTImageProcessor and Swin in the Downloading and Format datasets step\n",
    "        #self.swin = SwinModel.from_pretrained(preprocess_swin_model)\n",
    "\n",
    "        # build encoder\n",
    "        encoder_layer = nn.TransformerEncoderLayer(d_model=embedded_dim, nhead=encoder_decoder_heads, batch_first=True)\n",
    "        self.encoders = nn.TransformerEncoder(encoder_layer, encoder_decoder_layers)\n",
    "\n",
    "        # embeddings\n",
    "        self.embeddings = nn.Embedding(vocab_size, embedded_dim)\n",
    "\n",
    "        # build decoder\n",
    "        decoder_layer = nn.TransformerDecoderLayer(d_model=embedded_dim, nhead=encoder_decoder_heads, batch_first=True)\n",
    "        self.decoders = nn.TransformerDecoder(decoder_layer, encoder_decoder_layers)\n",
    "        \n",
    "        # decoder mask\n",
    "        mask = torch.BoolTensor(max_length, max_length)\n",
    "        for i in range(max_length):\n",
    "            for j in range(max_length):\n",
    "                if (i >= j):\n",
    "                    mask[i][j] = False\n",
    "                else:\n",
    "                    mask[i][j] = True\n",
    "        self.mask = mask\n",
    "\n",
    "        # final\n",
    "        self.linear = nn.Linear(in_features=embedded_dim, out_features=vocab_size)\n",
    "\n",
    "\n",
    "    def forward(self, images, captions):\n",
    "        x = images\n",
    "        #with torch.no_grad():\n",
    "        #    x = self.swin(x)\n",
    "        x = self.encoders(x)\n",
    "        \n",
    "        captions = self.embeddings(captions)\n",
    "        x = self.decoders(tgt=captions.to(x.dtype), memory=x, tgt_mask=self.mask)\n",
    "        return self.linear(x)\n",
    "    \n",
    "mod = BasicCaptionTransformer()"
   ]
  },
  {
   "cell_type": "markdown",
   "metadata": {},
   "source": [
    "## Training loop\n",
    "Trains the model and saves the best (lowest val error) and last model\n",
    "\n",
    "This section does the following actions:\n",
    "1. Creates the Basic transformer model\n",
    "2. Sets up optimizer, scheduler, counter for training\n",
    "3. Trains for num_epochs epochs\n",
    "2. Each Epoch has valadation accuracy calculated\n",
    "3. Save the model with the best valadation accuracy TODO\n",
    "4. Save the model when the max number of epochs has been reached TODO"
   ]
  },
  {
   "cell_type": "code",
   "execution_count": 9,
   "metadata": {},
   "outputs": [
    {
     "name": "stderr",
     "output_type": "stream",
     "text": [
      "Epoch 1/10:   2%|▏         | 100/4418 [02:14<1:28:56,  1.24s/it]"
     ]
    },
    {
     "name": "stdout",
     "output_type": "stream",
     "text": [
      "Loss so far is: 2.2383471829722628\n"
     ]
    },
    {
     "name": "stderr",
     "output_type": "stream",
     "text": [
      "Epoch 1/10:   5%|▍         | 200/4418 [04:22<1:30:26,  1.29s/it]"
     ]
    },
    {
     "name": "stdout",
     "output_type": "stream",
     "text": [
      "Loss so far is: 1.473855088553836\n"
     ]
    },
    {
     "name": "stderr",
     "output_type": "stream",
     "text": [
      "Epoch 1/10:   7%|▋         | 300/4418 [06:39<1:36:12,  1.40s/it]"
     ]
    },
    {
     "name": "stdout",
     "output_type": "stream",
     "text": [
      "Loss so far is: 1.1302580444709114\n"
     ]
    },
    {
     "name": "stderr",
     "output_type": "stream",
     "text": [
      "Epoch 1/10:   9%|▉         | 400/4418 [08:51<1:26:47,  1.30s/it]"
     ]
    },
    {
     "name": "stdout",
     "output_type": "stream",
     "text": [
      "Loss so far is: 0.9281628365654097\n"
     ]
    },
    {
     "name": "stderr",
     "output_type": "stream",
     "text": [
      "Epoch 1/10:  11%|█▏        | 500/4418 [11:03<1:24:49,  1.30s/it]"
     ]
    },
    {
     "name": "stdout",
     "output_type": "stream",
     "text": [
      "Loss so far is: 0.7941833448732545\n"
     ]
    },
    {
     "name": "stderr",
     "output_type": "stream",
     "text": [
      "Epoch 1/10:  14%|█▎        | 600/4418 [13:12<1:21:37,  1.28s/it]"
     ]
    },
    {
     "name": "stdout",
     "output_type": "stream",
     "text": [
      "Loss so far is: 0.6976284710612639\n"
     ]
    },
    {
     "name": "stderr",
     "output_type": "stream",
     "text": [
      "Epoch 1/10:  16%|█▌        | 700/4418 [15:22<1:20:01,  1.29s/it]"
     ]
    },
    {
     "name": "stdout",
     "output_type": "stream",
     "text": [
      "Loss so far is: 0.6235939171884705\n"
     ]
    },
    {
     "name": "stderr",
     "output_type": "stream",
     "text": [
      "Epoch 1/10:  18%|█▊        | 800/4418 [17:33<1:20:50,  1.34s/it]"
     ]
    },
    {
     "name": "stdout",
     "output_type": "stream",
     "text": [
      "Loss so far is: 0.5662909750272992\n"
     ]
    },
    {
     "name": "stderr",
     "output_type": "stream",
     "text": [
      "Epoch 1/10:  20%|██        | 900/4418 [19:42<1:16:24,  1.30s/it]"
     ]
    },
    {
     "name": "stdout",
     "output_type": "stream",
     "text": [
      "Loss so far is: 0.5187142032703117\n"
     ]
    },
    {
     "name": "stderr",
     "output_type": "stream",
     "text": [
      "Epoch 1/10:  23%|██▎       | 1000/4418 [21:56<1:25:33,  1.50s/it]"
     ]
    },
    {
     "name": "stdout",
     "output_type": "stream",
     "text": [
      "Loss so far is: 0.47915351732789696\n"
     ]
    },
    {
     "name": "stderr",
     "output_type": "stream",
     "text": [
      "Epoch 1/10:  25%|██▍       | 1100/4418 [24:21<1:10:53,  1.28s/it]"
     ]
    },
    {
     "name": "stdout",
     "output_type": "stream",
     "text": [
      "Loss so far is: 0.44607896525226365\n"
     ]
    },
    {
     "name": "stderr",
     "output_type": "stream",
     "text": [
      "Epoch 1/10:  27%|██▋       | 1200/4418 [26:48<1:21:38,  1.52s/it]"
     ]
    },
    {
     "name": "stdout",
     "output_type": "stream",
     "text": [
      "Loss so far is: 0.4175792997633049\n"
     ]
    },
    {
     "name": "stderr",
     "output_type": "stream",
     "text": [
      "Epoch 1/10:  29%|██▉       | 1300/4418 [29:04<1:12:35,  1.40s/it]"
     ]
    },
    {
     "name": "stdout",
     "output_type": "stream",
     "text": [
      "Loss so far is: 0.39258438328695444\n"
     ]
    },
    {
     "name": "stderr",
     "output_type": "stream",
     "text": [
      "Epoch 1/10:  32%|███▏      | 1400/4418 [31:17<1:05:03,  1.29s/it]"
     ]
    },
    {
     "name": "stdout",
     "output_type": "stream",
     "text": [
      "Loss so far is: 0.3707203237290592\n"
     ]
    },
    {
     "name": "stderr",
     "output_type": "stream",
     "text": [
      "Epoch 1/10:  34%|███▍      | 1500/4418 [33:30<1:02:45,  1.29s/it]"
     ]
    },
    {
     "name": "stdout",
     "output_type": "stream",
     "text": [
      "Loss so far is: 0.3514191595100617\n"
     ]
    },
    {
     "name": "stderr",
     "output_type": "stream",
     "text": [
      "Epoch 1/10:  36%|███▌      | 1600/4418 [35:43<1:10:52,  1.51s/it]"
     ]
    },
    {
     "name": "stdout",
     "output_type": "stream",
     "text": [
      "Loss so far is: 0.33407198980315506\n"
     ]
    },
    {
     "name": "stderr",
     "output_type": "stream",
     "text": [
      "Epoch 1/10:  38%|███▊      | 1700/4418 [37:55<57:34,  1.27s/it]  "
     ]
    },
    {
     "name": "stdout",
     "output_type": "stream",
     "text": [
      "Loss so far is: 0.318456441044518\n"
     ]
    },
    {
     "name": "stderr",
     "output_type": "stream",
     "text": [
      "Epoch 1/10:  41%|████      | 1800/4418 [40:03<59:45,  1.37s/it]  "
     ]
    },
    {
     "name": "stdout",
     "output_type": "stream",
     "text": [
      "Loss so far is: 0.3042808462538989\n"
     ]
    },
    {
     "name": "stderr",
     "output_type": "stream",
     "text": [
      "Epoch 1/10:  43%|████▎     | 1900/4418 [42:13<52:53,  1.26s/it]"
     ]
    },
    {
     "name": "stdout",
     "output_type": "stream",
     "text": [
      "Loss so far is: 0.2915240293844412\n"
     ]
    },
    {
     "name": "stderr",
     "output_type": "stream",
     "text": [
      "Epoch 1/10:  45%|████▌     | 2000/4418 [44:18<50:30,  1.25s/it]"
     ]
    },
    {
     "name": "stdout",
     "output_type": "stream",
     "text": [
      "Loss so far is: 0.2798953792518224\n"
     ]
    },
    {
     "name": "stderr",
     "output_type": "stream",
     "text": [
      "Epoch 1/10:  48%|████▊     | 2100/4418 [46:24<48:29,  1.26s/it]"
     ]
    },
    {
     "name": "stdout",
     "output_type": "stream",
     "text": [
      "Loss so far is: 0.2692509806218454\n"
     ]
    },
    {
     "name": "stderr",
     "output_type": "stream",
     "text": [
      "Epoch 1/10:  50%|████▉     | 2200/4418 [48:30<46:12,  1.25s/it]"
     ]
    },
    {
     "name": "stdout",
     "output_type": "stream",
     "text": [
      "Loss so far is: 0.2593470756019575\n"
     ]
    },
    {
     "name": "stderr",
     "output_type": "stream",
     "text": [
      "Epoch 1/10:  52%|█████▏    | 2300/4418 [50:37<44:28,  1.26s/it]"
     ]
    },
    {
     "name": "stdout",
     "output_type": "stream",
     "text": [
      "Loss so far is: 0.250236824315273\n"
     ]
    },
    {
     "name": "stderr",
     "output_type": "stream",
     "text": [
      "Epoch 1/10:  54%|█████▍    | 2400/4418 [52:42<42:37,  1.27s/it]"
     ]
    },
    {
     "name": "stdout",
     "output_type": "stream",
     "text": [
      "Loss so far is: 0.24183109724484989\n"
     ]
    },
    {
     "name": "stderr",
     "output_type": "stream",
     "text": [
      "Epoch 1/10:  57%|█████▋    | 2500/4418 [54:49<40:40,  1.27s/it]"
     ]
    },
    {
     "name": "stdout",
     "output_type": "stream",
     "text": [
      "Loss so far is: 0.23397880769809898\n"
     ]
    },
    {
     "name": "stderr",
     "output_type": "stream",
     "text": [
      "Epoch 1/10:  59%|█████▉    | 2600/4418 [56:54<38:09,  1.26s/it]"
     ]
    },
    {
     "name": "stdout",
     "output_type": "stream",
     "text": [
      "Loss so far is: 0.2266582198137874\n"
     ]
    },
    {
     "name": "stderr",
     "output_type": "stream",
     "text": [
      "Epoch 1/10:  61%|██████    | 2700/4418 [59:00<38:31,  1.35s/it]"
     ]
    },
    {
     "name": "stdout",
     "output_type": "stream",
     "text": [
      "Loss so far is: 0.2198542242482575\n"
     ]
    },
    {
     "name": "stderr",
     "output_type": "stream",
     "text": [
      "Epoch 1/10:  63%|██████▎   | 2800/4418 [1:01:17<34:46,  1.29s/it]"
     ]
    },
    {
     "name": "stdout",
     "output_type": "stream",
     "text": [
      "Loss so far is: 0.2133803132646286\n"
     ]
    },
    {
     "name": "stderr",
     "output_type": "stream",
     "text": [
      "Epoch 1/10:  66%|██████▌   | 2900/4418 [1:03:27<33:17,  1.32s/it]"
     ]
    },
    {
     "name": "stdout",
     "output_type": "stream",
     "text": [
      "Loss so far is: 0.20729510254516076\n"
     ]
    },
    {
     "name": "stderr",
     "output_type": "stream",
     "text": [
      "Epoch 1/10:  68%|██████▊   | 3000/4418 [1:05:36<30:24,  1.29s/it]"
     ]
    },
    {
     "name": "stdout",
     "output_type": "stream",
     "text": [
      "Loss so far is: 0.20164634901598572\n"
     ]
    },
    {
     "name": "stderr",
     "output_type": "stream",
     "text": [
      "Epoch 1/10:  70%|███████   | 3100/4418 [1:07:45<28:22,  1.29s/it]"
     ]
    },
    {
     "name": "stdout",
     "output_type": "stream",
     "text": [
      "Loss so far is: 0.19626700603509836\n"
     ]
    },
    {
     "name": "stderr",
     "output_type": "stream",
     "text": [
      "Epoch 1/10:  72%|███████▏  | 3200/4418 [1:09:54<25:54,  1.28s/it]"
     ]
    },
    {
     "name": "stdout",
     "output_type": "stream",
     "text": [
      "Loss so far is: 0.1912099159836231\n"
     ]
    },
    {
     "name": "stderr",
     "output_type": "stream",
     "text": [
      "Epoch 1/10:  75%|███████▍  | 3300/4418 [1:12:04<24:15,  1.30s/it]"
     ]
    },
    {
     "name": "stdout",
     "output_type": "stream",
     "text": [
      "Loss so far is: 0.18644391618644754\n"
     ]
    },
    {
     "name": "stderr",
     "output_type": "stream",
     "text": [
      "Epoch 1/10:  77%|███████▋  | 3400/4418 [1:14:13<21:50,  1.29s/it]"
     ]
    },
    {
     "name": "stdout",
     "output_type": "stream",
     "text": [
      "Loss so far is: 0.18197275173819397\n"
     ]
    },
    {
     "name": "stderr",
     "output_type": "stream",
     "text": [
      "Epoch 1/10:  79%|███████▉  | 3500/4418 [1:16:22<19:37,  1.28s/it]"
     ]
    },
    {
     "name": "stdout",
     "output_type": "stream",
     "text": [
      "Loss so far is: 0.17766370519020983\n"
     ]
    },
    {
     "name": "stderr",
     "output_type": "stream",
     "text": [
      "Epoch 1/10:  81%|████████▏ | 3600/4418 [1:18:31<17:28,  1.28s/it]"
     ]
    },
    {
     "name": "stdout",
     "output_type": "stream",
     "text": [
      "Loss so far is: 0.17357952231409302\n"
     ]
    },
    {
     "name": "stderr",
     "output_type": "stream",
     "text": [
      "Epoch 1/10:  84%|████████▎ | 3700/4418 [1:20:41<15:26,  1.29s/it]"
     ]
    },
    {
     "name": "stdout",
     "output_type": "stream",
     "text": [
      "Loss so far is: 0.16969148371815299\n"
     ]
    },
    {
     "name": "stderr",
     "output_type": "stream",
     "text": [
      "Epoch 1/10:  86%|████████▌ | 3800/4418 [1:22:50<13:28,  1.31s/it]"
     ]
    },
    {
     "name": "stdout",
     "output_type": "stream",
     "text": [
      "Loss so far is: 0.16600091625215835\n"
     ]
    },
    {
     "name": "stderr",
     "output_type": "stream",
     "text": [
      "Epoch 1/10:  88%|████████▊ | 3900/4418 [1:24:59<11:11,  1.30s/it]"
     ]
    },
    {
     "name": "stdout",
     "output_type": "stream",
     "text": [
      "Loss so far is: 0.16251021785750913\n"
     ]
    },
    {
     "name": "stderr",
     "output_type": "stream",
     "text": [
      "Epoch 1/10:  91%|█████████ | 4000/4418 [1:27:08<08:57,  1.29s/it]"
     ]
    },
    {
     "name": "stdout",
     "output_type": "stream",
     "text": [
      "Loss so far is: 0.15914839280666293\n"
     ]
    },
    {
     "name": "stderr",
     "output_type": "stream",
     "text": [
      "Epoch 1/10:  93%|█████████▎| 4100/4418 [1:29:17<06:52,  1.30s/it]"
     ]
    },
    {
     "name": "stdout",
     "output_type": "stream",
     "text": [
      "Loss so far is: 0.1559599619132707\n"
     ]
    },
    {
     "name": "stderr",
     "output_type": "stream",
     "text": [
      "Epoch 1/10:  95%|█████████▌| 4200/4418 [1:31:27<04:39,  1.28s/it]"
     ]
    },
    {
     "name": "stdout",
     "output_type": "stream",
     "text": [
      "Loss so far is: 0.15293128268492026\n"
     ]
    },
    {
     "name": "stderr",
     "output_type": "stream",
     "text": [
      "Epoch 1/10:  97%|█████████▋| 4300/4418 [1:33:37<02:35,  1.31s/it]"
     ]
    },
    {
     "name": "stdout",
     "output_type": "stream",
     "text": [
      "Loss so far is: 0.150001976362766\n"
     ]
    },
    {
     "name": "stderr",
     "output_type": "stream",
     "text": [
      "Epoch 1/10: 100%|█████████▉| 4400/4418 [1:35:47<00:23,  1.29s/it]"
     ]
    },
    {
     "name": "stdout",
     "output_type": "stream",
     "text": [
      "Loss so far is: 0.14714507172666455\n"
     ]
    },
    {
     "name": "stderr",
     "output_type": "stream",
     "text": [
      "                                                                 \r"
     ]
    },
    {
     "name": "stdout",
     "output_type": "stream",
     "text": [
      "\n",
      "Epoch: 0\n",
      "Train Loss: 0.1466198884141328\n",
      "Val Loss: 0.025249600248076976\n"
     ]
    },
    {
     "name": "stderr",
     "output_type": "stream",
     "text": [
      "Epoch 2/10:   2%|▏         | 100/4418 [02:06<1:29:45,  1.25s/it]"
     ]
    },
    {
     "name": "stdout",
     "output_type": "stream",
     "text": [
      "Loss so far is: 0.019475546486750997\n"
     ]
    },
    {
     "name": "stderr",
     "output_type": "stream",
     "text": [
      "Epoch 2/10:   5%|▍         | 200/4418 [04:10<1:28:06,  1.25s/it]"
     ]
    },
    {
     "name": "stdout",
     "output_type": "stream",
     "text": [
      "Loss so far is: 0.01951482949132596\n"
     ]
    },
    {
     "name": "stderr",
     "output_type": "stream",
     "text": [
      "Epoch 2/10:   7%|▋         | 300/4418 [06:17<1:25:52,  1.25s/it]"
     ]
    },
    {
     "name": "stdout",
     "output_type": "stream",
     "text": [
      "Loss so far is: 0.01994005465579459\n"
     ]
    },
    {
     "name": "stderr",
     "output_type": "stream",
     "text": [
      "Epoch 2/10:   9%|▉         | 400/4418 [08:26<1:23:49,  1.25s/it]"
     ]
    },
    {
     "name": "stdout",
     "output_type": "stream",
     "text": [
      "Loss so far is: 0.019820754440503668\n"
     ]
    },
    {
     "name": "stderr",
     "output_type": "stream",
     "text": [
      "Epoch 2/10:  11%|█▏        | 500/4418 [10:43<1:25:12,  1.30s/it]"
     ]
    },
    {
     "name": "stdout",
     "output_type": "stream",
     "text": [
      "Loss so far is: 0.019577765179413533\n"
     ]
    },
    {
     "name": "stderr",
     "output_type": "stream",
     "text": [
      "Epoch 2/10:  14%|█▎        | 600/4418 [12:52<1:20:30,  1.27s/it]"
     ]
    },
    {
     "name": "stdout",
     "output_type": "stream",
     "text": [
      "Loss so far is: 0.01957675511015887\n"
     ]
    },
    {
     "name": "stderr",
     "output_type": "stream",
     "text": [
      "Epoch 2/10:  16%|█▌        | 700/4418 [15:16<3:44:52,  3.63s/it]"
     ]
    },
    {
     "name": "stdout",
     "output_type": "stream",
     "text": [
      "Loss so far is: 0.01968293181901667\n"
     ]
    },
    {
     "name": "stderr",
     "output_type": "stream",
     "text": [
      "Epoch 2/10:  18%|█▊        | 800/4418 [17:40<1:14:19,  1.23s/it]"
     ]
    },
    {
     "name": "stdout",
     "output_type": "stream",
     "text": [
      "Loss so far is: 0.019717961093568208\n"
     ]
    },
    {
     "name": "stderr",
     "output_type": "stream",
     "text": [
      "Epoch 2/10:  20%|██        | 900/4418 [19:43<1:11:59,  1.23s/it]"
     ]
    },
    {
     "name": "stdout",
     "output_type": "stream",
     "text": [
      "Loss so far is: 0.019532507648189097\n"
     ]
    },
    {
     "name": "stderr",
     "output_type": "stream",
     "text": [
      "Epoch 2/10:  23%|██▎       | 1000/4418 [21:47<1:10:13,  1.23s/it]"
     ]
    },
    {
     "name": "stdout",
     "output_type": "stream",
     "text": [
      "Loss so far is: 0.01949796915015633\n"
     ]
    },
    {
     "name": "stderr",
     "output_type": "stream",
     "text": [
      "Epoch 2/10:  25%|██▍       | 1100/4418 [23:51<1:08:20,  1.24s/it]"
     ]
    },
    {
     "name": "stdout",
     "output_type": "stream",
     "text": [
      "Loss so far is: 0.019512600913407403\n"
     ]
    },
    {
     "name": "stderr",
     "output_type": "stream",
     "text": [
      "Epoch 2/10:  27%|██▋       | 1200/4418 [25:55<1:06:48,  1.25s/it]"
     ]
    },
    {
     "name": "stdout",
     "output_type": "stream",
     "text": [
      "Loss so far is: 0.01944839896197688\n"
     ]
    },
    {
     "name": "stderr",
     "output_type": "stream",
     "text": [
      "Epoch 2/10:  29%|██▉       | 1300/4418 [27:59<1:04:42,  1.25s/it]"
     ]
    },
    {
     "name": "stdout",
     "output_type": "stream",
     "text": [
      "Loss so far is: 0.019276568136092638\n"
     ]
    },
    {
     "name": "stderr",
     "output_type": "stream",
     "text": [
      "Epoch 2/10:  32%|███▏      | 1400/4418 [30:04<1:03:28,  1.26s/it]"
     ]
    },
    {
     "name": "stdout",
     "output_type": "stream",
     "text": [
      "Loss so far is: 0.019106618420795415\n"
     ]
    },
    {
     "name": "stderr",
     "output_type": "stream",
     "text": [
      "Epoch 2/10:  34%|███▍      | 1500/4418 [32:09<1:00:36,  1.25s/it]"
     ]
    },
    {
     "name": "stdout",
     "output_type": "stream",
     "text": [
      "Loss so far is: 0.018998923099191586\n"
     ]
    },
    {
     "name": "stderr",
     "output_type": "stream",
     "text": [
      "Epoch 2/10:  36%|███▌      | 1600/4418 [34:13<58:52,  1.25s/it]  "
     ]
    },
    {
     "name": "stdout",
     "output_type": "stream",
     "text": [
      "Loss so far is: 0.018885166608519372\n"
     ]
    },
    {
     "name": "stderr",
     "output_type": "stream",
     "text": [
      "Epoch 2/10:  38%|███▊      | 1700/4418 [36:19<56:23,  1.24s/it]"
     ]
    },
    {
     "name": "stdout",
     "output_type": "stream",
     "text": [
      "Loss so far is: 0.018857284027986063\n"
     ]
    },
    {
     "name": "stderr",
     "output_type": "stream",
     "text": [
      "Epoch 2/10:  41%|████      | 1800/4418 [38:25<55:45,  1.28s/it]"
     ]
    },
    {
     "name": "stdout",
     "output_type": "stream",
     "text": [
      "Loss so far is: 0.018836522576805015\n"
     ]
    },
    {
     "name": "stderr",
     "output_type": "stream",
     "text": [
      "Epoch 2/10:  43%|████▎     | 1900/4418 [40:31<53:33,  1.28s/it]"
     ]
    },
    {
     "name": "stdout",
     "output_type": "stream",
     "text": [
      "Loss so far is: 0.01871010717273047\n"
     ]
    },
    {
     "name": "stderr",
     "output_type": "stream",
     "text": [
      "Epoch 2/10:  45%|████▌     | 2000/4418 [42:37<50:59,  1.27s/it]"
     ]
    },
    {
     "name": "stdout",
     "output_type": "stream",
     "text": [
      "Loss so far is: 0.018678491031357356\n"
     ]
    },
    {
     "name": "stderr",
     "output_type": "stream",
     "text": [
      "Epoch 2/10:  48%|████▊     | 2100/4418 [44:43<48:41,  1.26s/it]"
     ]
    },
    {
     "name": "stdout",
     "output_type": "stream",
     "text": [
      "Loss so far is: 0.018635275621404636\n"
     ]
    },
    {
     "name": "stderr",
     "output_type": "stream",
     "text": [
      "Epoch 2/10:  50%|████▉     | 2200/4418 [46:50<46:41,  1.26s/it]"
     ]
    },
    {
     "name": "stdout",
     "output_type": "stream",
     "text": [
      "Loss so far is: 0.01854689058726175\n"
     ]
    },
    {
     "name": "stderr",
     "output_type": "stream",
     "text": [
      "Epoch 2/10:  52%|█████▏    | 2300/4418 [48:56<43:59,  1.25s/it]"
     ]
    },
    {
     "name": "stdout",
     "output_type": "stream",
     "text": [
      "Loss so far is: 0.01845265369504413\n"
     ]
    },
    {
     "name": "stderr",
     "output_type": "stream",
     "text": [
      "Epoch 2/10:  54%|█████▍    | 2400/4418 [51:02<42:22,  1.26s/it]"
     ]
    },
    {
     "name": "stdout",
     "output_type": "stream",
     "text": [
      "Loss so far is: 0.018365945538699822\n"
     ]
    },
    {
     "name": "stderr",
     "output_type": "stream",
     "text": [
      "Epoch 2/10:  57%|█████▋    | 2500/4418 [53:09<40:24,  1.26s/it]"
     ]
    },
    {
     "name": "stdout",
     "output_type": "stream",
     "text": [
      "Loss so far is: 0.018204787751056384\n"
     ]
    },
    {
     "name": "stderr",
     "output_type": "stream",
     "text": [
      "Epoch 2/10:  59%|█████▉    | 2600/4418 [55:17<37:48,  1.25s/it]"
     ]
    },
    {
     "name": "stdout",
     "output_type": "stream",
     "text": [
      "Loss so far is: 0.018112277766489347\n"
     ]
    },
    {
     "name": "stderr",
     "output_type": "stream",
     "text": [
      "Epoch 2/10:  61%|██████    | 2700/4418 [57:23<36:03,  1.26s/it]"
     ]
    },
    {
     "name": "stdout",
     "output_type": "stream",
     "text": [
      "Loss so far is: 0.018046267156476427\n"
     ]
    },
    {
     "name": "stderr",
     "output_type": "stream",
     "text": [
      "Epoch 2/10:  63%|██████▎   | 2800/4418 [59:31<34:26,  1.28s/it]"
     ]
    },
    {
     "name": "stdout",
     "output_type": "stream",
     "text": [
      "Loss so far is: 0.01797824882060055\n"
     ]
    },
    {
     "name": "stderr",
     "output_type": "stream",
     "text": [
      "Epoch 2/10:  66%|██████▌   | 2900/4418 [1:01:37<32:06,  1.27s/it]"
     ]
    },
    {
     "name": "stdout",
     "output_type": "stream",
     "text": [
      "Loss so far is: 0.01787244088551182\n"
     ]
    },
    {
     "name": "stderr",
     "output_type": "stream",
     "text": [
      "Epoch 2/10:  68%|██████▊   | 3000/4418 [1:03:45<29:43,  1.26s/it]"
     ]
    },
    {
     "name": "stdout",
     "output_type": "stream",
     "text": [
      "Loss so far is: 0.017799410517099237\n"
     ]
    },
    {
     "name": "stderr",
     "output_type": "stream",
     "text": [
      "Epoch 2/10:  70%|███████   | 3100/4418 [1:05:52<28:07,  1.28s/it]"
     ]
    },
    {
     "name": "stdout",
     "output_type": "stream",
     "text": [
      "Loss so far is: 0.017741614514632766\n"
     ]
    },
    {
     "name": "stderr",
     "output_type": "stream",
     "text": [
      "Epoch 2/10:  72%|███████▏  | 3200/4418 [1:07:59<25:43,  1.27s/it]"
     ]
    },
    {
     "name": "stdout",
     "output_type": "stream",
     "text": [
      "Loss so far is: 0.017688980452752304\n"
     ]
    },
    {
     "name": "stderr",
     "output_type": "stream",
     "text": [
      "Epoch 2/10:  75%|███████▍  | 3300/4418 [1:10:06<23:41,  1.27s/it]"
     ]
    },
    {
     "name": "stdout",
     "output_type": "stream",
     "text": [
      "Loss so far is: 0.017652169907811825\n"
     ]
    },
    {
     "name": "stderr",
     "output_type": "stream",
     "text": [
      "Epoch 2/10:  77%|███████▋  | 3400/4418 [1:12:12<21:12,  1.25s/it]"
     ]
    },
    {
     "name": "stdout",
     "output_type": "stream",
     "text": [
      "Loss so far is: 0.017593012174110415\n"
     ]
    },
    {
     "name": "stderr",
     "output_type": "stream",
     "text": [
      "Epoch 2/10:  79%|███████▉  | 3500/4418 [1:14:19<19:33,  1.28s/it]"
     ]
    },
    {
     "name": "stdout",
     "output_type": "stream",
     "text": [
      "Loss so far is: 0.01754961338122241\n"
     ]
    },
    {
     "name": "stderr",
     "output_type": "stream",
     "text": [
      "Epoch 2/10:  81%|████████▏ | 3600/4418 [1:16:26<17:22,  1.27s/it]"
     ]
    },
    {
     "name": "stdout",
     "output_type": "stream",
     "text": [
      "Loss so far is: 0.017469396630765147\n"
     ]
    },
    {
     "name": "stderr",
     "output_type": "stream",
     "text": [
      "Epoch 2/10:  84%|████████▎ | 3700/4418 [1:18:32<15:07,  1.26s/it]"
     ]
    },
    {
     "name": "stdout",
     "output_type": "stream",
     "text": [
      "Loss so far is: 0.017387536800228295\n"
     ]
    },
    {
     "name": "stderr",
     "output_type": "stream",
     "text": [
      "Epoch 2/10:  86%|████████▌ | 3800/4418 [1:20:39<12:54,  1.25s/it]"
     ]
    },
    {
     "name": "stdout",
     "output_type": "stream",
     "text": [
      "Loss so far is: 0.017323796819778078\n"
     ]
    },
    {
     "name": "stderr",
     "output_type": "stream",
     "text": [
      "Epoch 2/10:  88%|████████▊ | 3900/4418 [1:22:46<10:58,  1.27s/it]"
     ]
    },
    {
     "name": "stdout",
     "output_type": "stream",
     "text": [
      "Loss so far is: 0.01724914757300299\n"
     ]
    },
    {
     "name": "stderr",
     "output_type": "stream",
     "text": [
      "Epoch 2/10:  91%|█████████ | 4000/4418 [1:24:52<08:49,  1.27s/it]"
     ]
    },
    {
     "name": "stdout",
     "output_type": "stream",
     "text": [
      "Loss so far is: 0.01721749418666591\n"
     ]
    },
    {
     "name": "stderr",
     "output_type": "stream",
     "text": [
      "Epoch 2/10:  93%|█████████▎| 4100/4418 [1:26:59<06:50,  1.29s/it]"
     ]
    },
    {
     "name": "stdout",
     "output_type": "stream",
     "text": [
      "Loss so far is: 0.017185278738724243\n"
     ]
    },
    {
     "name": "stderr",
     "output_type": "stream",
     "text": [
      "Epoch 2/10:  95%|█████████▌| 4200/4418 [1:29:06<04:37,  1.27s/it]"
     ]
    },
    {
     "name": "stdout",
     "output_type": "stream",
     "text": [
      "Loss so far is: 0.017102785878497034\n"
     ]
    },
    {
     "name": "stderr",
     "output_type": "stream",
     "text": [
      "Epoch 2/10:  97%|█████████▋| 4300/4418 [1:31:12<02:30,  1.28s/it]"
     ]
    },
    {
     "name": "stdout",
     "output_type": "stream",
     "text": [
      "Loss so far is: 0.0170251180828065\n"
     ]
    },
    {
     "name": "stderr",
     "output_type": "stream",
     "text": [
      "Epoch 2/10: 100%|█████████▉| 4400/4418 [1:33:19<00:22,  1.27s/it]"
     ]
    },
    {
     "name": "stdout",
     "output_type": "stream",
     "text": [
      "Loss so far is: 0.016945736534569274\n"
     ]
    },
    {
     "name": "stderr",
     "output_type": "stream",
     "text": [
      "                                                                 \r"
     ]
    },
    {
     "name": "stdout",
     "output_type": "stream",
     "text": [
      "\n",
      "Epoch: 1\n",
      "Train Loss: 0.016925680291919945\n",
      "Val Loss: 0.01608021901263736\n"
     ]
    },
    {
     "name": "stderr",
     "output_type": "stream",
     "text": [
      "Epoch 3/10:   2%|▏         | 100/4418 [02:02<1:27:58,  1.22s/it]"
     ]
    },
    {
     "name": "stdout",
     "output_type": "stream",
     "text": [
      "Loss so far is: 0.011716289217630871\n"
     ]
    },
    {
     "name": "stderr",
     "output_type": "stream",
     "text": [
      "Epoch 3/10:   5%|▍         | 200/4418 [04:04<1:25:20,  1.21s/it]"
     ]
    },
    {
     "name": "stdout",
     "output_type": "stream",
     "text": [
      "Loss so far is: 0.01131978802366566\n"
     ]
    },
    {
     "name": "stderr",
     "output_type": "stream",
     "text": [
      "Epoch 3/10:   7%|▋         | 300/4418 [06:11<1:23:43,  1.22s/it]"
     ]
    },
    {
     "name": "stdout",
     "output_type": "stream",
     "text": [
      "Loss so far is: 0.011066823577731038\n"
     ]
    },
    {
     "name": "stderr",
     "output_type": "stream",
     "text": [
      "Epoch 3/10:   9%|▉         | 400/4418 [08:15<1:24:01,  1.25s/it]"
     ]
    },
    {
     "name": "stdout",
     "output_type": "stream",
     "text": [
      "Loss so far is: 0.01122155762408839\n"
     ]
    },
    {
     "name": "stderr",
     "output_type": "stream",
     "text": [
      "Epoch 3/10:  11%|█▏        | 500/4418 [10:18<1:19:47,  1.22s/it]"
     ]
    },
    {
     "name": "stdout",
     "output_type": "stream",
     "text": [
      "Loss so far is: 0.011239349839505263\n"
     ]
    },
    {
     "name": "stderr",
     "output_type": "stream",
     "text": [
      "Epoch 3/10:  14%|█▎        | 600/4418 [12:20<1:18:13,  1.23s/it]"
     ]
    },
    {
     "name": "stdout",
     "output_type": "stream",
     "text": [
      "Loss so far is: 0.011241838235512239\n"
     ]
    },
    {
     "name": "stderr",
     "output_type": "stream",
     "text": [
      "Epoch 3/10:  16%|█▌        | 700/4418 [14:23<1:16:27,  1.23s/it]"
     ]
    },
    {
     "name": "stdout",
     "output_type": "stream",
     "text": [
      "Loss so far is: 0.011181405421016\n"
     ]
    },
    {
     "name": "stderr",
     "output_type": "stream",
     "text": [
      "Epoch 3/10:  18%|█▊        | 800/4418 [16:26<1:15:04,  1.25s/it]"
     ]
    },
    {
     "name": "stdout",
     "output_type": "stream",
     "text": [
      "Loss so far is: 0.01108693949289874\n"
     ]
    },
    {
     "name": "stderr",
     "output_type": "stream",
     "text": [
      "Epoch 3/10:  20%|██        | 900/4418 [18:31<1:12:51,  1.24s/it]"
     ]
    },
    {
     "name": "stdout",
     "output_type": "stream",
     "text": [
      "Loss so far is: 0.011026438951553948\n"
     ]
    },
    {
     "name": "stderr",
     "output_type": "stream",
     "text": [
      "Epoch 3/10:  23%|██▎       | 1000/4418 [20:34<1:10:10,  1.23s/it]"
     ]
    },
    {
     "name": "stdout",
     "output_type": "stream",
     "text": [
      "Loss so far is: 0.011046157061139605\n"
     ]
    },
    {
     "name": "stderr",
     "output_type": "stream",
     "text": [
      "Epoch 3/10:  25%|██▍       | 1100/4418 [22:39<1:08:25,  1.24s/it]"
     ]
    },
    {
     "name": "stdout",
     "output_type": "stream",
     "text": [
      "Loss so far is: 0.01106677797988008\n"
     ]
    },
    {
     "name": "stderr",
     "output_type": "stream",
     "text": [
      "Epoch 3/10:  27%|██▋       | 1200/4418 [24:43<1:06:34,  1.24s/it]"
     ]
    },
    {
     "name": "stdout",
     "output_type": "stream",
     "text": [
      "Loss so far is: 0.011135843557789548\n"
     ]
    },
    {
     "name": "stderr",
     "output_type": "stream",
     "text": [
      "Epoch 3/10:  29%|██▉       | 1300/4418 [26:47<1:04:25,  1.24s/it]"
     ]
    },
    {
     "name": "stdout",
     "output_type": "stream",
     "text": [
      "Loss so far is: 0.011070838756169234\n"
     ]
    },
    {
     "name": "stderr",
     "output_type": "stream",
     "text": [
      "Epoch 3/10:  32%|███▏      | 1400/4418 [28:52<1:02:39,  1.25s/it]"
     ]
    },
    {
     "name": "stdout",
     "output_type": "stream",
     "text": [
      "Loss so far is: 0.01111622751414013\n"
     ]
    },
    {
     "name": "stderr",
     "output_type": "stream",
     "text": [
      "Epoch 3/10:  34%|███▍      | 1500/4418 [30:57<1:01:32,  1.27s/it]"
     ]
    },
    {
     "name": "stdout",
     "output_type": "stream",
     "text": [
      "Loss so far is: 0.011083858939261424\n"
     ]
    },
    {
     "name": "stderr",
     "output_type": "stream",
     "text": [
      "Epoch 3/10:  36%|███▌      | 1600/4418 [33:02<59:20,  1.26s/it]  "
     ]
    },
    {
     "name": "stdout",
     "output_type": "stream",
     "text": [
      "Loss so far is: 0.011056698746727331\n"
     ]
    },
    {
     "name": "stderr",
     "output_type": "stream",
     "text": [
      "Epoch 3/10:  38%|███▊      | 1700/4418 [35:08<56:42,  1.25s/it]"
     ]
    },
    {
     "name": "stdout",
     "output_type": "stream",
     "text": [
      "Loss so far is: 0.011077722290846267\n"
     ]
    },
    {
     "name": "stderr",
     "output_type": "stream",
     "text": [
      "Epoch 3/10:  41%|████      | 1800/4418 [37:13<54:34,  1.25s/it]"
     ]
    },
    {
     "name": "stdout",
     "output_type": "stream",
     "text": [
      "Loss so far is: 0.011090581501367398\n"
     ]
    },
    {
     "name": "stderr",
     "output_type": "stream",
     "text": [
      "Epoch 3/10:  43%|████▎     | 1900/4418 [39:19<52:26,  1.25s/it]"
     ]
    },
    {
     "name": "stdout",
     "output_type": "stream",
     "text": [
      "Loss so far is: 0.011068285327147754\n"
     ]
    },
    {
     "name": "stderr",
     "output_type": "stream",
     "text": [
      "Epoch 3/10:  45%|████▌     | 2000/4418 [41:25<50:44,  1.26s/it]"
     ]
    },
    {
     "name": "stdout",
     "output_type": "stream",
     "text": [
      "Loss so far is: 0.011132632907276872\n"
     ]
    },
    {
     "name": "stderr",
     "output_type": "stream",
     "text": [
      "Epoch 3/10:  48%|████▊     | 2100/4418 [43:32<48:40,  1.26s/it]"
     ]
    },
    {
     "name": "stdout",
     "output_type": "stream",
     "text": [
      "Loss so far is: 0.011161062083987537\n"
     ]
    },
    {
     "name": "stderr",
     "output_type": "stream",
     "text": [
      "Epoch 3/10:  50%|████▉     | 2200/4418 [45:38<47:07,  1.27s/it]"
     ]
    },
    {
     "name": "stdout",
     "output_type": "stream",
     "text": [
      "Loss so far is: 0.01119055732462738\n"
     ]
    },
    {
     "name": "stderr",
     "output_type": "stream",
     "text": [
      "Epoch 3/10:  52%|█████▏    | 2300/4418 [47:45<43:59,  1.25s/it]"
     ]
    },
    {
     "name": "stdout",
     "output_type": "stream",
     "text": [
      "Loss so far is: nan\n"
     ]
    },
    {
     "name": "stderr",
     "output_type": "stream",
     "text": [
      "Epoch 3/10:  54%|█████▍    | 2400/4418 [49:51<42:24,  1.26s/it]"
     ]
    },
    {
     "name": "stdout",
     "output_type": "stream",
     "text": [
      "Loss so far is: nan\n"
     ]
    },
    {
     "name": "stderr",
     "output_type": "stream",
     "text": [
      "Epoch 3/10:  57%|█████▋    | 2500/4418 [51:56<40:00,  1.25s/it]"
     ]
    },
    {
     "name": "stdout",
     "output_type": "stream",
     "text": [
      "Loss so far is: nan\n"
     ]
    },
    {
     "name": "stderr",
     "output_type": "stream",
     "text": [
      "Epoch 3/10:  59%|█████▉    | 2600/4418 [54:02<37:37,  1.24s/it]"
     ]
    },
    {
     "name": "stdout",
     "output_type": "stream",
     "text": [
      "Loss so far is: nan\n"
     ]
    },
    {
     "name": "stderr",
     "output_type": "stream",
     "text": [
      "Epoch 3/10:  61%|██████    | 2700/4418 [56:08<36:03,  1.26s/it]"
     ]
    },
    {
     "name": "stdout",
     "output_type": "stream",
     "text": [
      "Loss so far is: nan\n"
     ]
    },
    {
     "name": "stderr",
     "output_type": "stream",
     "text": [
      "Epoch 3/10:  63%|██████▎   | 2800/4418 [58:14<34:13,  1.27s/it]"
     ]
    },
    {
     "name": "stdout",
     "output_type": "stream",
     "text": [
      "Loss so far is: nan\n"
     ]
    },
    {
     "name": "stderr",
     "output_type": "stream",
     "text": [
      "Epoch 3/10:  66%|██████▌   | 2900/4418 [1:00:20<32:07,  1.27s/it]"
     ]
    },
    {
     "name": "stdout",
     "output_type": "stream",
     "text": [
      "Loss so far is: nan\n"
     ]
    },
    {
     "name": "stderr",
     "output_type": "stream",
     "text": [
      "Epoch 3/10:  68%|██████▊   | 3000/4418 [1:02:26<29:56,  1.27s/it]"
     ]
    },
    {
     "name": "stdout",
     "output_type": "stream",
     "text": [
      "Loss so far is: nan\n"
     ]
    },
    {
     "name": "stderr",
     "output_type": "stream",
     "text": [
      "Epoch 3/10:  70%|███████   | 3100/4418 [1:04:32<28:00,  1.28s/it]"
     ]
    },
    {
     "name": "stdout",
     "output_type": "stream",
     "text": [
      "Loss so far is: nan\n"
     ]
    },
    {
     "name": "stderr",
     "output_type": "stream",
     "text": [
      "Epoch 3/10:  72%|███████▏  | 3200/4418 [1:06:38<25:22,  1.25s/it]"
     ]
    },
    {
     "name": "stdout",
     "output_type": "stream",
     "text": [
      "Loss so far is: nan\n"
     ]
    },
    {
     "name": "stderr",
     "output_type": "stream",
     "text": [
      "Epoch 3/10:  75%|███████▍  | 3300/4418 [1:08:44<23:14,  1.25s/it]"
     ]
    },
    {
     "name": "stdout",
     "output_type": "stream",
     "text": [
      "Loss so far is: nan\n"
     ]
    },
    {
     "name": "stderr",
     "output_type": "stream",
     "text": [
      "Epoch 3/10:  77%|███████▋  | 3400/4418 [1:10:51<21:22,  1.26s/it]"
     ]
    },
    {
     "name": "stdout",
     "output_type": "stream",
     "text": [
      "Loss so far is: nan\n"
     ]
    },
    {
     "name": "stderr",
     "output_type": "stream",
     "text": [
      "Epoch 3/10:  79%|███████▉  | 3500/4418 [1:12:57<19:41,  1.29s/it]"
     ]
    },
    {
     "name": "stdout",
     "output_type": "stream",
     "text": [
      "Loss so far is: nan\n"
     ]
    },
    {
     "name": "stderr",
     "output_type": "stream",
     "text": [
      "Epoch 3/10:  81%|████████▏ | 3600/4418 [1:15:03<17:08,  1.26s/it]"
     ]
    },
    {
     "name": "stdout",
     "output_type": "stream",
     "text": [
      "Loss so far is: nan\n"
     ]
    },
    {
     "name": "stderr",
     "output_type": "stream",
     "text": [
      "Epoch 3/10:  84%|████████▎ | 3700/4418 [1:17:09<15:04,  1.26s/it]"
     ]
    },
    {
     "name": "stdout",
     "output_type": "stream",
     "text": [
      "Loss so far is: nan\n"
     ]
    },
    {
     "name": "stderr",
     "output_type": "stream",
     "text": [
      "Epoch 3/10:  86%|████████▌ | 3800/4418 [1:19:17<13:02,  1.27s/it]"
     ]
    },
    {
     "name": "stdout",
     "output_type": "stream",
     "text": [
      "Loss so far is: nan\n"
     ]
    },
    {
     "name": "stderr",
     "output_type": "stream",
     "text": [
      "Epoch 3/10:  88%|████████▊ | 3900/4418 [1:21:24<10:55,  1.26s/it]"
     ]
    },
    {
     "name": "stdout",
     "output_type": "stream",
     "text": [
      "Loss so far is: nan\n"
     ]
    },
    {
     "name": "stderr",
     "output_type": "stream",
     "text": [
      "Epoch 3/10:  91%|█████████ | 4000/4418 [1:23:30<08:51,  1.27s/it]"
     ]
    },
    {
     "name": "stdout",
     "output_type": "stream",
     "text": [
      "Loss so far is: nan\n"
     ]
    },
    {
     "name": "stderr",
     "output_type": "stream",
     "text": [
      "Epoch 3/10:  93%|█████████▎| 4100/4418 [1:25:37<06:43,  1.27s/it]"
     ]
    },
    {
     "name": "stdout",
     "output_type": "stream",
     "text": [
      "Loss so far is: nan\n"
     ]
    },
    {
     "name": "stderr",
     "output_type": "stream",
     "text": [
      "Epoch 3/10:  95%|█████████▌| 4200/4418 [1:27:42<04:34,  1.26s/it]"
     ]
    },
    {
     "name": "stdout",
     "output_type": "stream",
     "text": [
      "Loss so far is: nan\n"
     ]
    },
    {
     "name": "stderr",
     "output_type": "stream",
     "text": [
      "Epoch 3/10:  97%|█████████▋| 4300/4418 [1:29:49<02:31,  1.28s/it]"
     ]
    },
    {
     "name": "stdout",
     "output_type": "stream",
     "text": [
      "Loss so far is: nan\n"
     ]
    },
    {
     "name": "stderr",
     "output_type": "stream",
     "text": [
      "Epoch 3/10: 100%|█████████▉| 4400/4418 [1:31:55<00:22,  1.26s/it]"
     ]
    },
    {
     "name": "stdout",
     "output_type": "stream",
     "text": [
      "Loss so far is: nan\n"
     ]
    },
    {
     "name": "stderr",
     "output_type": "stream",
     "text": [
      "                                                                 \r"
     ]
    },
    {
     "name": "stdout",
     "output_type": "stream",
     "text": [
      "\n",
      "Epoch: 2\n",
      "Train Loss: nan\n",
      "Val Loss: nan\n"
     ]
    },
    {
     "name": "stderr",
     "output_type": "stream",
     "text": [
      "Epoch 4/10:   2%|▏         | 100/4418 [02:02<1:28:24,  1.23s/it]"
     ]
    },
    {
     "name": "stdout",
     "output_type": "stream",
     "text": [
      "Loss so far is: nan\n"
     ]
    },
    {
     "name": "stderr",
     "output_type": "stream",
     "text": [
      "Epoch 4/10:   5%|▍         | 200/4418 [04:04<1:25:01,  1.21s/it]"
     ]
    },
    {
     "name": "stdout",
     "output_type": "stream",
     "text": [
      "Loss so far is: nan\n"
     ]
    },
    {
     "name": "stderr",
     "output_type": "stream",
     "text": [
      "Epoch 4/10:   7%|▋         | 300/4418 [06:06<1:23:15,  1.21s/it]"
     ]
    },
    {
     "name": "stdout",
     "output_type": "stream",
     "text": [
      "Loss so far is: nan\n"
     ]
    },
    {
     "name": "stderr",
     "output_type": "stream",
     "text": [
      "Epoch 4/10:   9%|▉         | 400/4418 [08:08<1:23:12,  1.24s/it]"
     ]
    },
    {
     "name": "stdout",
     "output_type": "stream",
     "text": [
      "Loss so far is: nan\n"
     ]
    },
    {
     "name": "stderr",
     "output_type": "stream",
     "text": [
      "Epoch 4/10:  11%|█▏        | 500/4418 [10:11<1:19:41,  1.22s/it]"
     ]
    },
    {
     "name": "stdout",
     "output_type": "stream",
     "text": [
      "Loss so far is: nan\n"
     ]
    },
    {
     "name": "stderr",
     "output_type": "stream",
     "text": [
      "Epoch 4/10:  14%|█▎        | 600/4418 [12:12<1:17:14,  1.21s/it]"
     ]
    },
    {
     "name": "stdout",
     "output_type": "stream",
     "text": [
      "Loss so far is: nan\n"
     ]
    },
    {
     "name": "stderr",
     "output_type": "stream",
     "text": [
      "Epoch 4/10:  16%|█▌        | 700/4418 [14:15<1:16:33,  1.24s/it]"
     ]
    },
    {
     "name": "stdout",
     "output_type": "stream",
     "text": [
      "Loss so far is: nan\n"
     ]
    },
    {
     "name": "stderr",
     "output_type": "stream",
     "text": [
      "Epoch 4/10:  18%|█▊        | 800/4418 [16:17<1:13:05,  1.21s/it]"
     ]
    },
    {
     "name": "stdout",
     "output_type": "stream",
     "text": [
      "Loss so far is: nan\n"
     ]
    },
    {
     "name": "stderr",
     "output_type": "stream",
     "text": [
      "Epoch 4/10:  20%|██        | 900/4418 [18:20<1:12:32,  1.24s/it]"
     ]
    },
    {
     "name": "stdout",
     "output_type": "stream",
     "text": [
      "Loss so far is: nan\n"
     ]
    },
    {
     "name": "stderr",
     "output_type": "stream",
     "text": [
      "Epoch 4/10:  23%|██▎       | 1000/4418 [20:23<1:09:52,  1.23s/it]"
     ]
    },
    {
     "name": "stdout",
     "output_type": "stream",
     "text": [
      "Loss so far is: nan\n"
     ]
    },
    {
     "name": "stderr",
     "output_type": "stream",
     "text": [
      "Epoch 4/10:  25%|██▍       | 1100/4418 [22:26<1:08:15,  1.23s/it]"
     ]
    },
    {
     "name": "stdout",
     "output_type": "stream",
     "text": [
      "Loss so far is: nan\n"
     ]
    },
    {
     "name": "stderr",
     "output_type": "stream",
     "text": [
      "Epoch 4/10:  27%|██▋       | 1200/4418 [24:29<1:07:04,  1.25s/it]"
     ]
    },
    {
     "name": "stdout",
     "output_type": "stream",
     "text": [
      "Loss so far is: nan\n"
     ]
    },
    {
     "name": "stderr",
     "output_type": "stream",
     "text": [
      "Epoch 4/10:  29%|██▉       | 1300/4418 [26:33<1:03:19,  1.22s/it]"
     ]
    },
    {
     "name": "stdout",
     "output_type": "stream",
     "text": [
      "Loss so far is: nan\n"
     ]
    },
    {
     "name": "stderr",
     "output_type": "stream",
     "text": [
      "Epoch 4/10:  32%|███▏      | 1400/4418 [28:36<1:03:09,  1.26s/it]"
     ]
    },
    {
     "name": "stdout",
     "output_type": "stream",
     "text": [
      "Loss so far is: nan\n"
     ]
    },
    {
     "name": "stderr",
     "output_type": "stream",
     "text": [
      "Epoch 4/10:  34%|███▍      | 1500/4418 [30:40<1:00:30,  1.24s/it]"
     ]
    },
    {
     "name": "stdout",
     "output_type": "stream",
     "text": [
      "Loss so far is: nan\n"
     ]
    },
    {
     "name": "stderr",
     "output_type": "stream",
     "text": [
      "Epoch 4/10:  36%|███▌      | 1600/4418 [32:44<58:36,  1.25s/it]  "
     ]
    },
    {
     "name": "stdout",
     "output_type": "stream",
     "text": [
      "Loss so far is: nan\n"
     ]
    },
    {
     "name": "stderr",
     "output_type": "stream",
     "text": [
      "Epoch 4/10:  38%|███▊      | 1700/4418 [34:49<56:52,  1.26s/it]"
     ]
    },
    {
     "name": "stdout",
     "output_type": "stream",
     "text": [
      "Loss so far is: nan\n"
     ]
    },
    {
     "name": "stderr",
     "output_type": "stream",
     "text": [
      "Epoch 4/10:  41%|████      | 1800/4418 [36:54<54:18,  1.24s/it]"
     ]
    },
    {
     "name": "stdout",
     "output_type": "stream",
     "text": [
      "Loss so far is: nan\n"
     ]
    },
    {
     "name": "stderr",
     "output_type": "stream",
     "text": [
      "Epoch 4/10:  43%|████▎     | 1900/4418 [38:58<52:03,  1.24s/it]"
     ]
    },
    {
     "name": "stdout",
     "output_type": "stream",
     "text": [
      "Loss so far is: nan\n"
     ]
    },
    {
     "name": "stderr",
     "output_type": "stream",
     "text": [
      "Epoch 4/10:  45%|████▌     | 2000/4418 [41:03<50:17,  1.25s/it]"
     ]
    },
    {
     "name": "stdout",
     "output_type": "stream",
     "text": [
      "Loss so far is: nan\n"
     ]
    },
    {
     "name": "stderr",
     "output_type": "stream",
     "text": [
      "Epoch 4/10:  48%|████▊     | 2100/4418 [43:09<48:11,  1.25s/it]"
     ]
    },
    {
     "name": "stdout",
     "output_type": "stream",
     "text": [
      "Loss so far is: nan\n"
     ]
    },
    {
     "name": "stderr",
     "output_type": "stream",
     "text": [
      "Epoch 4/10:  50%|████▉     | 2200/4418 [45:14<46:43,  1.26s/it]"
     ]
    },
    {
     "name": "stdout",
     "output_type": "stream",
     "text": [
      "Loss so far is: nan\n"
     ]
    },
    {
     "name": "stderr",
     "output_type": "stream",
     "text": [
      "Epoch 4/10:  52%|█████▏    | 2300/4418 [47:20<44:20,  1.26s/it]"
     ]
    },
    {
     "name": "stdout",
     "output_type": "stream",
     "text": [
      "Loss so far is: nan\n"
     ]
    },
    {
     "name": "stderr",
     "output_type": "stream",
     "text": [
      "Epoch 4/10:  54%|█████▍    | 2400/4418 [49:25<41:56,  1.25s/it]"
     ]
    },
    {
     "name": "stdout",
     "output_type": "stream",
     "text": [
      "Loss so far is: nan\n"
     ]
    },
    {
     "name": "stderr",
     "output_type": "stream",
     "text": [
      "Epoch 4/10:  57%|█████▋    | 2500/4418 [51:35<39:50,  1.25s/it]  "
     ]
    },
    {
     "name": "stdout",
     "output_type": "stream",
     "text": [
      "Loss so far is: nan\n"
     ]
    },
    {
     "name": "stderr",
     "output_type": "stream",
     "text": [
      "Epoch 4/10:  59%|█████▉    | 2600/4418 [53:41<38:22,  1.27s/it]"
     ]
    },
    {
     "name": "stdout",
     "output_type": "stream",
     "text": [
      "Loss so far is: nan\n"
     ]
    },
    {
     "name": "stderr",
     "output_type": "stream",
     "text": [
      "Epoch 4/10:  61%|██████    | 2700/4418 [55:47<36:08,  1.26s/it]"
     ]
    },
    {
     "name": "stdout",
     "output_type": "stream",
     "text": [
      "Loss so far is: nan\n"
     ]
    },
    {
     "name": "stderr",
     "output_type": "stream",
     "text": [
      "Epoch 4/10:  63%|██████▎   | 2800/4418 [57:54<33:40,  1.25s/it]"
     ]
    },
    {
     "name": "stdout",
     "output_type": "stream",
     "text": [
      "Loss so far is: nan\n"
     ]
    },
    {
     "name": "stderr",
     "output_type": "stream",
     "text": [
      "Epoch 4/10:  66%|██████▌   | 2900/4418 [59:59<31:40,  1.25s/it]"
     ]
    },
    {
     "name": "stdout",
     "output_type": "stream",
     "text": [
      "Loss so far is: nan\n"
     ]
    },
    {
     "name": "stderr",
     "output_type": "stream",
     "text": [
      "Epoch 4/10:  68%|██████▊   | 3000/4418 [1:02:05<29:16,  1.24s/it]"
     ]
    },
    {
     "name": "stdout",
     "output_type": "stream",
     "text": [
      "Loss so far is: nan\n"
     ]
    },
    {
     "name": "stderr",
     "output_type": "stream",
     "text": [
      "Epoch 4/10:  70%|███████   | 3100/4418 [1:04:11<27:27,  1.25s/it]"
     ]
    },
    {
     "name": "stdout",
     "output_type": "stream",
     "text": [
      "Loss so far is: nan\n"
     ]
    },
    {
     "name": "stderr",
     "output_type": "stream",
     "text": [
      "Epoch 4/10:  72%|███████▏  | 3200/4418 [1:06:28<25:52,  1.27s/it]  "
     ]
    },
    {
     "name": "stdout",
     "output_type": "stream",
     "text": [
      "Loss so far is: nan\n"
     ]
    },
    {
     "name": "stderr",
     "output_type": "stream",
     "text": [
      "Epoch 4/10:  75%|███████▍  | 3300/4418 [1:08:34<23:33,  1.26s/it]"
     ]
    },
    {
     "name": "stdout",
     "output_type": "stream",
     "text": [
      "Loss so far is: nan\n"
     ]
    },
    {
     "name": "stderr",
     "output_type": "stream",
     "text": [
      "Epoch 4/10:  77%|███████▋  | 3400/4418 [1:10:41<22:04,  1.30s/it]"
     ]
    },
    {
     "name": "stdout",
     "output_type": "stream",
     "text": [
      "Loss so far is: nan\n"
     ]
    },
    {
     "name": "stderr",
     "output_type": "stream",
     "text": [
      "Epoch 4/10:  79%|███████▉  | 3500/4418 [1:12:47<19:19,  1.26s/it]"
     ]
    },
    {
     "name": "stdout",
     "output_type": "stream",
     "text": [
      "Loss so far is: nan\n"
     ]
    },
    {
     "name": "stderr",
     "output_type": "stream",
     "text": [
      "Epoch 4/10:  81%|████████▏ | 3600/4418 [1:14:52<17:04,  1.25s/it]"
     ]
    },
    {
     "name": "stdout",
     "output_type": "stream",
     "text": [
      "Loss so far is: nan\n"
     ]
    },
    {
     "name": "stderr",
     "output_type": "stream",
     "text": [
      "Epoch 4/10:  84%|████████▎ | 3700/4418 [1:17:04<15:08,  1.27s/it]"
     ]
    },
    {
     "name": "stdout",
     "output_type": "stream",
     "text": [
      "Loss so far is: nan\n"
     ]
    },
    {
     "name": "stderr",
     "output_type": "stream",
     "text": [
      "Epoch 4/10:  86%|████████▌ | 3800/4418 [1:19:10<13:01,  1.26s/it]"
     ]
    },
    {
     "name": "stdout",
     "output_type": "stream",
     "text": [
      "Loss so far is: nan\n"
     ]
    },
    {
     "name": "stderr",
     "output_type": "stream",
     "text": [
      "Epoch 4/10:  88%|████████▊ | 3900/4418 [1:21:16<10:59,  1.27s/it]"
     ]
    },
    {
     "name": "stdout",
     "output_type": "stream",
     "text": [
      "Loss so far is: nan\n"
     ]
    },
    {
     "name": "stderr",
     "output_type": "stream",
     "text": [
      "Epoch 4/10:  91%|█████████ | 4000/4418 [1:23:23<08:45,  1.26s/it]"
     ]
    },
    {
     "name": "stdout",
     "output_type": "stream",
     "text": [
      "Loss so far is: nan\n"
     ]
    },
    {
     "name": "stderr",
     "output_type": "stream",
     "text": [
      "Epoch 4/10:  93%|█████████▎| 4100/4418 [1:25:29<06:49,  1.29s/it]"
     ]
    },
    {
     "name": "stdout",
     "output_type": "stream",
     "text": [
      "Loss so far is: nan\n"
     ]
    },
    {
     "name": "stderr",
     "output_type": "stream",
     "text": [
      "Epoch 4/10:  95%|█████████▌| 4200/4418 [1:27:35<04:29,  1.24s/it]"
     ]
    },
    {
     "name": "stdout",
     "output_type": "stream",
     "text": [
      "Loss so far is: nan\n"
     ]
    },
    {
     "name": "stderr",
     "output_type": "stream",
     "text": [
      "Epoch 4/10:  97%|█████████▋| 4300/4418 [1:29:41<02:28,  1.26s/it]"
     ]
    },
    {
     "name": "stdout",
     "output_type": "stream",
     "text": [
      "Loss so far is: nan\n"
     ]
    },
    {
     "name": "stderr",
     "output_type": "stream",
     "text": [
      "Epoch 4/10: 100%|█████████▉| 4400/4418 [1:31:47<00:22,  1.27s/it]"
     ]
    },
    {
     "name": "stdout",
     "output_type": "stream",
     "text": [
      "Loss so far is: nan\n"
     ]
    },
    {
     "name": "stderr",
     "output_type": "stream",
     "text": [
      "                                                                 \r"
     ]
    },
    {
     "name": "stdout",
     "output_type": "stream",
     "text": [
      "\n",
      "Epoch: 3\n",
      "Train Loss: nan\n",
      "Val Loss: nan\n"
     ]
    },
    {
     "name": "stderr",
     "output_type": "stream",
     "text": [
      "Epoch 5/10:   2%|▏         | 100/4418 [02:01<1:27:41,  1.22s/it]"
     ]
    },
    {
     "name": "stdout",
     "output_type": "stream",
     "text": [
      "Loss so far is: nan\n"
     ]
    },
    {
     "name": "stderr",
     "output_type": "stream",
     "text": [
      "Epoch 5/10:   5%|▍         | 200/4418 [04:03<1:25:05,  1.21s/it]"
     ]
    },
    {
     "name": "stdout",
     "output_type": "stream",
     "text": [
      "Loss so far is: nan\n"
     ]
    },
    {
     "name": "stderr",
     "output_type": "stream",
     "text": [
      "Epoch 5/10:   5%|▍         | 215/4418 [04:21<1:27:18,  1.25s/it]"
     ]
    }
   ],
   "source": [
    "from tqdm import tqdm\n",
    "from torch.optim.lr_scheduler import ExponentialLR\n",
    "\n",
    "# Loop setup\n",
    "model = BasicCaptionTransformer()\n",
    "model = model.to(device)\n",
    "\n",
    "loss_function = nn.CrossEntropyLoss(ignore_index=-1)\n",
    "optimizer = torch.optim.Adam(model.parameters(), lr=learning_rate, weight_decay=weight_decay)\n",
    "scheduler = ExponentialLR(optimizer, gamma=0.9)\n",
    "\n",
    "\n",
    "# Train\n",
    "predictions_per_batch = batch_size * max_length\n",
    "stop_counter = 0\n",
    "train_losses = []\n",
    "val_losses = []\n",
    "best_val_loss = float('inf')\n",
    "\n",
    "train_len = len(train_dataset_loader)\n",
    "val_len = len(valid_dataset_loader)\n",
    "\n",
    "\n",
    "for epoch in range(num_epochs):\n",
    "    model.train()\n",
    "\n",
    "    # Loop through training data loader batches\n",
    "    train_loss = 0.0\n",
    "    train_dataloader_iter = tqdm(train_dataset_loader, desc=f'Epoch {epoch + 1}/{num_epochs}', leave=False)\n",
    "    for i, data in enumerate(train_dataloader_iter):\n",
    "        \n",
    "        # Get values from data loader\n",
    "        pixel_vals = data[\"pixel_values\"].squeeze(1).to(device)\n",
    "        captions = data[\"labels\"].squeeze(1).to(device)\n",
    "\n",
    "        optimizer.zero_grad()\n",
    "        outputs = model(images=pixel_vals, captions=captions)\n",
    "\n",
    "        loss = loss_function(outputs.permute(0,2,1), captions)\n",
    "        loss.backward()\n",
    "        optimizer.step()\n",
    "\n",
    "        # save loss\n",
    "        train_loss += loss.item()\n",
    "        if i % 100 == 99:\n",
    "            print (\"Loss so far is: \" + str (train_loss / i))\n",
    "            #print (\"tensor: \", outputs)\n",
    "    \n",
    "    scheduler.step()\n",
    "\n",
    "\n",
    "    # Validation\n",
    "    val_loss = 0.0\n",
    "    valid_dataset_iter = tqdm(valid_dataset_loader,  desc=f'Epoch {epoch + 1}/{num_epochs}', leave=False)\n",
    "    with torch.no_grad():\n",
    "        for i, data in enumerate(valid_dataset_iter):\n",
    "            \n",
    "            # Get values from data loader\n",
    "            pixel_vals = data[\"pixel_values\"].squeeze(1).to(device)\n",
    "            captions = data[\"labels\"].squeeze(1).to(device)\n",
    "\n",
    "            outputs = model(images=pixel_vals, captions=captions)\n",
    "            loss = loss_function(outputs.permute(0,2,1), captions)\n",
    "\n",
    "            # save loss\n",
    "            val_loss += loss.item()\n",
    "\n",
    "\n",
    "    # Save model\n",
    "    torch.save(model.state_dict(), f'./models/model_epoch_{epoch+1}.pt')\n",
    "\n",
    "    train_losses.append(train_loss / train_len)\n",
    "    val_losses.append(val_loss / val_len)\n",
    "\n",
    "    # Print losses\n",
    "    # divide by length of data loader... \n",
    "    print(\"\\nEpoch: \" + str(epoch) + \n",
    "        \"\\nTrain Loss: \" + str(train_loss / train_len) +\n",
    "        \"\\nVal Loss: \" + str(val_loss / val_len))\n",
    "\n",
    "print (train_losses)\n",
    "print (val_losses)\n"
   ]
  },
  {
   "cell_type": "markdown",
   "metadata": {},
   "source": [
    "## Post Training Metrics\n",
    "Computes the test loss and common test metrics\n",
    "\n",
    "This section does the following actions:\n",
    "1. Loads the specified model\n",
    "2. Runs through the test set and reports loss\n",
    "3. Runs through the val set for BLEU and ROUGE metrics\n",
    "4. Gives some images titles and saves them"
   ]
  },
  {
   "cell_type": "code",
   "execution_count": 1,
   "metadata": {},
   "outputs": [
    {
     "ename": "SyntaxError",
     "evalue": "invalid syntax (131980854.py, line 98)",
     "output_type": "error",
     "traceback": [
      "\u001b[1;36m  Cell \u001b[1;32mIn[1], line 98\u001b[1;36m\u001b[0m\n\u001b[1;33m    model_input =  test_dataset[i][]\u001b[0m\n\u001b[1;37m                                   ^\u001b[0m\n\u001b[1;31mSyntaxError\u001b[0m\u001b[1;31m:\u001b[0m invalid syntax\n"
     ]
    }
   ],
   "source": [
    "import evaluate\n",
    "from transformers import EvalPrediction\n",
    "from tqdm import tqdm\n",
    "import matplotlib.pyplot as plt\n",
    "\n",
    "# Load model\n",
    "MODEL_PATH = \"./models/model_epoch_8.pt\"\n",
    "LOAD_MODEL = True\n",
    "\n",
    "eval_model = None\n",
    "if LOAD_MODEL:\n",
    "       if \"model\" in locals():\n",
    "              model.to('cpu')\n",
    "\n",
    "       eval_model = BasicCaptionTransformer()\n",
    "       eval_model.load_state_dict(torch.load(MODEL_PATH))\n",
    "       eval_model = eval_model.to(device)\n",
    "\n",
    "else:\n",
    "       eval_model = model\n",
    "\n",
    "# Eval setup\n",
    "loss_function = nn.CrossEntropyLoss(ignore_index=-1)\n",
    "test_loss = 0.0\n",
    "\n",
    "predictions = []\n",
    "labels = []\n",
    "\n",
    "# Run through the test for test loss\n",
    "with torch.no_grad():\n",
    "       test_dataset_iter = tqdm(test_dataset_loader,  desc=f'Test Set Progress: ', leave=False)\n",
    "       for data in test_dataset_iter:\n",
    "\n",
    "              # get data from batch\n",
    "              pixel_vals = data[\"pixel_values\"].squeeze(1).to(device)\n",
    "              labels = data[\"labels\"].squeeze(1).to(device)\n",
    "\n",
    "              # Predict captions\n",
    "              outputs = eval_model(images=pixel_vals, captions=labels)\n",
    "              test_loss += loss_function(outputs.permute(0,2,1), labels)\n",
    "              print (test_loss)\n",
    "\n",
    "print (\"Test Loss: \" + str(test_loss / len(test_dataset_loader)))\n",
    "\n",
    "\n",
    "# Run through valadation set with best model\n",
    "predictions = []\n",
    "labels = []\n",
    "with torch.no_grad():\n",
    "       valid_dataset_iter = tqdm(valid_dataset_loader,  desc=f'Epoch {epoch + 1}/{num_epochs}', leave=False)\n",
    "       for data in valid_dataset_iter:\n",
    "\n",
    "              # get data from batch\n",
    "              pixel_vals = data[\"pixel_values\"].squeeze(1).to(device)\n",
    "              labels = data[\"labels\"].squeeze(1).to(device)\n",
    "       \n",
    "              # Predict captions\n",
    "              outputs = eval_model(images=pixel_vals, captions=labels)\n",
    "\n",
    "              # Format labels\n",
    "              logits = outputs.detach().cpu()\n",
    "              predictions.extend(logits.argmax(dim=-1).tolist())\n",
    "              labels.extend(labels.tolist())\n",
    "    \n",
    "\n",
    "# Format predictions into Hugging Face class\n",
    "eval_predictions = EvalPrediction(predictions=predictions, label_ids=labels)\n",
    "\n",
    "predictions = eval_predictions.predictions\n",
    "labels = eval_predictions.label_ids\n",
    "\n",
    "# Tokenize predictions and reference captions\n",
    "predictions_str = tokenizer.batch_decode(predictions, skip_special_tokens=True)\n",
    "labels_str = tokenizer.batch_decode(labels, skip_special_tokens=True)\n",
    "\n",
    "\n",
    "# Load test evaluators\n",
    "rouge = evaluate.load(\"rouge\")\n",
    "bleu = evaluate.load(\"bleu\")\n",
    "\n",
    "# Compute and print Rouge-1, Rogue-2, RougeL\n",
    "rouge_result = rouge.compute(predictions=predictions_str, references=labels_str)\n",
    "rouge_result = {k: round(v * 100, 4) for k, v in rouge_result.items()}\n",
    "print (\"ROUGE Metrics: \\nROUGE-1: \" + rouge_result.get(\"rouge1\", 0) + \n",
    "       \"\\nROUGE-2: \" + rouge_result.get(\"rouge2\", 0) + \n",
    "       \"\\nROUGE-L: \" + rouge_result.get(\"rougeL\", 0))\n",
    "\n",
    "\n",
    "# Compute and print BLEU metrics\n",
    "bleu_result = bleu.compute(predictions=predictions_str, references=labels_str)\n",
    "bleu_score = round(bleu_result[\"bleu\"] * 100, 4)\n",
    "print (\"BLEU Metrics: \" + bleu_score)\n",
    "\n",
    "\n",
    "# Get first 16 images and give them captiosn\n",
    "for i in range(16):\n",
    "       file_path = test_dataset[i][\"image_file\"]\n",
    "       model_input =  test_dataset[i][\"pixel_values\"]\n",
    "\n",
    "       # Make caption just beginning of sentence token (50256)\n",
    "       # It's also the padding token, maybe an issue?\n",
    "       sos_caption = torch.tensor([1, 2, 3])\n",
    "       output = model(model_input, sos_caption)\n",
    "\n",
    "\n",
    "       fig, ax = plt.subplot_mosaic([\n",
    "       ['hopper', 'mri']\n",
    "       ], figsize=(7, 3.5))"
   ]
  }
 ],
 "metadata": {
  "kernelspec": {
   "display_name": "Python 3",
   "language": "python",
   "name": "python3"
  },
  "language_info": {
   "codemirror_mode": {
    "name": "ipython",
    "version": 3
   },
   "file_extension": ".py",
   "mimetype": "text/x-python",
   "name": "python",
   "nbconvert_exporter": "python",
   "pygments_lexer": "ipython3",
   "version": "3.12.3"
  }
 },
 "nbformat": 4,
 "nbformat_minor": 2
}
