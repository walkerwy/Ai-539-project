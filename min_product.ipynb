{
 "cells": [
  {
   "cell_type": "markdown",
   "metadata": {},
   "source": [
    "## Before Running:\n",
    "Please Install all from the requirements.txt (pip install -r requirements.txt)."
   ]
  },
  {
   "cell_type": "markdown",
   "metadata": {},
   "source": [
    "## Set Hyper Parameters"
   ]
  },
  {
   "cell_type": "code",
   "execution_count": 2,
   "metadata": {},
   "outputs": [],
   "source": [
    "import torch\n",
    "\n",
    "device = torch.device(\"cuda\" if torch.cuda.is_available() else \"cpu\")\n",
    "encoder_decoder_layers = 3\n",
    "encoder_decoder_heads = 8\n",
    "embedded_dim = 768 # Don't change\n",
    "max_length = 256*2*2*2\n",
    "coco_dataset_ratio = 50\n",
    "coco_dataset_dir = \"./coco\"\n",
    "vocab_size = 50257\n",
    "batch_size = 64\n",
    "num_epochs = 10\n",
    "learning_rate = 1e-2 # was 1e-3\n",
    "patience = 3\n",
    "weight_decay = 1e-5\n",
    "preprocess_swin_model = \"microsoft/swin-tiny-patch4-window7-224\"\n",
    "encoder_model = \"microsoft/swin-base-patch4-window7-224-in22k\"\n",
    "decoder_model = \"gpt2\""
   ]
  },
  {
   "cell_type": "markdown",
   "metadata": {},
   "source": [
    "## Downloading and Format datasets\n",
    "This will take some time to finishing running the first time. It took me roughly 40 minutes.\n",
    "\n",
    "This section does the following actions:\n",
    "1. Downloads the Dataset\n",
    "2. Keeps images with only 3 or 4 dim\n",
    "3. Transforms the dataset \n",
    "4. Turns the data set into data loaders\n"
   ]
  },
  {
   "cell_type": "code",
   "execution_count": 4,
   "metadata": {},
   "outputs": [],
   "source": [
    "import numpy as np\n",
    "from datasets import load_dataset\n",
    "from transformers import ViTImageProcessor, GPT2TokenizerFast, AutoImageProcessor, SwinModel\n",
    "from torch.utils.data import DataLoader, Dataset\n",
    "import torch\n",
    "import os\n",
    "\n",
    "# Download the train, val and test splits of the COCO dataset\n",
    "train_ds = load_dataset(\"HuggingFaceM4/COCO\", split=f\"train[:{coco_dataset_ratio}%]\", cache_dir=coco_dataset_dir)\n",
    "valid_ds = load_dataset(\"HuggingFaceM4/COCO\", split=f\"validation[:{coco_dataset_ratio}%]\", cache_dir=coco_dataset_dir)\n",
    "test_ds = load_dataset(\"HuggingFaceM4/COCO\", split=\"test\", cache_dir=coco_dataset_dir)\n",
    "\n",
    "# Filter all non 3 or 4 dim images out\n",
    "# Can change num_proc, but might be errors with np\n",
    "train_ds = train_ds.filter(lambda item: np.array(item[\"image\"]).ndim in [3, 4], num_proc=1)\n",
    "valid_ds = valid_ds.filter(lambda item: np.array(item[\"image\"]).ndim in [3, 4], num_proc=1)\n",
    "test_ds = test_ds.filter(lambda item: np.array(item[\"image\"]).ndim in [3, 4], num_proc=1)\n",
    "\n",
    "# Does pre processing on the data set\n",
    "# This includes pre-trained ViTimage feature extraction and tokenizing captions\n",
    "tokenizer = GPT2TokenizerFast.from_pretrained(decoder_model)\n",
    "tokenizer.pad_token = tokenizer.eos_token\n",
    "image_processor = ViTImageProcessor.from_pretrained(encoder_model)\n",
    "image_processor_swin = SwinModel.from_pretrained(preprocess_swin_model).to(device)\n",
    "\n",
    "def preprocess(items):\n",
    "    # Image pre-processing\n",
    "    # use ViT and SWIN since no back prop\n",
    "    pixel_values = image_processor(items[\"image\"], return_tensors=\"pt\").pixel_values.to(device)\n",
    "    with torch.no_grad():\n",
    "        pixel_values = image_processor_swin (pixel_values).last_hidden_state\n",
    "    pixel_values = pixel_values.to('cpu')\n",
    "\n",
    "    # tokenize\n",
    "    targets = tokenizer(items[\"sentences\"]['raw'],\n",
    "                        max_length=max_length, padding=\"max_length\", truncation=True, return_tensors=\"pt\")\n",
    "    \n",
    "    # Keep image file for easy examples later\n",
    "    img_file = items['filepath']\n",
    "    return {'pixel_values': pixel_values, 'labels': targets[\"input_ids\"], 'image_file': img_file}\n",
    "\n",
    "\n",
    "TRAIN_SET_PATH = './preprocessed/train_set.pt'\n",
    "TEST_SET_PATH = './preprocessed/val_set.pt'\n",
    "VALID_SET_PATH = './preprocessed/test_set.pt'\n",
    "\n",
    "# Pre process train dataset if it doesn't exist\n",
    "train_dataset = None\n",
    "if os.path.isfile(TRAIN_SET_PATH):\n",
    "    train_dataset = torch.load(TRAIN_SET_PATH)\n",
    "\n",
    "else:\n",
    "    train_dataset = train_ds.map(preprocess)\n",
    "    torch.save(train_dataset, TRAIN_SET_PATH)\n",
    "    \n",
    "# Pre process val dataset if it doesn't exist\n",
    "valid_dataset = None\n",
    "if os.path.isfile(VALID_SET_PATH):\n",
    "    valid_dataset = torch.load(VALID_SET_PATH)\n",
    "\n",
    "else:\n",
    "    valid_dataset = valid_ds.map(preprocess)\n",
    "    torch.save(valid_dataset, VALID_SET_PATH)\n",
    "\n",
    "# Pre process test dataset if it doesn't exist\n",
    "test_dataset = None\n",
    "if os.path.isfile(TEST_SET_PATH):\n",
    "    test_dataset = torch.load(TEST_SET_PATH)\n",
    "\n",
    "else:\n",
    "    test_dataset = test_ds.map(preprocess)\n",
    "    torch.save(test_dataset, TEST_SET_PATH)\n",
    "\n",
    "\n",
    "\n",
    "# Turns the dataset into a torch DataLoader\n",
    "def collate_fn(batch):\n",
    "    return {\n",
    "        'pixel_values': torch.stack([torch.tensor(x['pixel_values']) for x in batch]),\n",
    "        'labels': torch.stack([torch.tensor(x['labels']) for x in batch]),\n",
    "        'image_file': [x[\"image_file\"] for x in batch]\n",
    "    }\n",
    "\n",
    "train_dataset_loader = DataLoader(train_dataset, collate_fn=collate_fn, batch_size=batch_size, shuffle=True, num_workers=2, pin_memory=True)\n",
    "valid_dataset_loader = DataLoader(valid_dataset, collate_fn=collate_fn, batch_size=batch_size, shuffle=False, num_workers=2, pin_memory=True)\n",
    "test_dataset_loader = DataLoader(test_dataset, collate_fn=collate_fn, batch_size=batch_size, shuffle=False, num_workers=2, pin_memory=True)"
   ]
  },
  {
   "cell_type": "markdown",
   "metadata": {},
   "source": [
    "## Define the Model\n",
    "Creates the PureT model from the paper\n",
    "\n",
    "This section does the following actions:\n",
    "1. Creates the SWIN Transformer used by PureT\n",
    "2. Creates the PureT encoder\n",
    "3. Creates the PureT decoder\n",
    "4. Creates the PureT model\n",
    "\n",
    "Download the pre-trained SwinT weights from here https://drive.google.com/drive/folders/1HBw5NGGw8DjkyNurksCP5v8a5f0FG7zU and put them in this folder before running"
   ]
  },
  {
   "cell_type": "code",
   "execution_count": 5,
   "metadata": {},
   "outputs": [],
   "source": [
    "import torch.nn as nn\n",
    "import torch.nn.functional as F\n",
    "import torch\n",
    "from transformers import SwinModel\n",
    "\n",
    "class BasicCaptionTransformer(torch.nn.Module):\n",
    "    def __init__(self):\n",
    "        super(BasicCaptionTransformer, self).__init__()\n",
    "\n",
    "        # Image processing pre-done with ViTImageProcessor and Swin in the Downloading and Format datasets step\n",
    "        #self.swin = SwinModel.from_pretrained(preprocess_swin_model)\n",
    "\n",
    "        # build encoder\n",
    "        encoder_layer = nn.TransformerEncoderLayer(d_model=embedded_dim, nhead=encoder_decoder_heads, batch_first=True)\n",
    "        self.encoders = nn.TransformerEncoder(encoder_layer, encoder_decoder_layers)\n",
    "\n",
    "        # embeddings\n",
    "        self.embeddings = nn.Embedding(vocab_size, embedded_dim)\n",
    "\n",
    "        # build decoder\n",
    "        decoder_layer = nn.TransformerDecoderLayer(d_model=embedded_dim, nhead=encoder_decoder_heads, batch_first=True)\n",
    "        self.decoders = nn.TransformerDecoder(decoder_layer, encoder_decoder_layers)\n",
    "\n",
    "        # final\n",
    "        self.linear = nn.Linear(in_features=768, out_features=vocab_size)\n",
    "\n",
    "\n",
    "    def forward(self, images, captions):\n",
    "        x = images\n",
    "        #with torch.no_grad():\n",
    "        #    x = self.swin(x)\n",
    "        x = self.encoders(x)\n",
    "        \n",
    "        captions = self.embeddings(captions)\n",
    "        x = self.decoders(tgt=captions.to(x.dtype), memory=x)\n",
    "        return self.linear(x)\n",
    "    \n"
   ]
  },
  {
   "cell_type": "markdown",
   "metadata": {},
   "source": [
    "## Training loop\n",
    "Trains the model and saves the best (lowest val error) and last model\n",
    "\n",
    "This section does the following actions:\n",
    "1. Creates the Basic transformer model\n",
    "2. Sets up optimizer, scheduler, counter for training\n",
    "3. Trains for num_epochs epochs\n",
    "2. Each Epoch has valadation accuracy calculated\n",
    "3. Save the model with the best valadation accuracy TODO\n",
    "4. Save the model when the max number of epochs has been reached TODO"
   ]
  },
  {
   "cell_type": "code",
   "execution_count": 5,
   "metadata": {},
   "outputs": [
    {
     "name": "stderr",
     "output_type": "stream",
     "text": [
      "Epoch 1/10:   2%|▏         | 100/4418 [02:29<1:37:03,  1.35s/it]"
     ]
    },
    {
     "name": "stdout",
     "output_type": "stream",
     "text": [
      "Loss so far is: 3.246267870219067\n"
     ]
    },
    {
     "name": "stderr",
     "output_type": "stream",
     "text": [
      "Epoch 1/10:   5%|▍         | 200/4418 [04:42<1:35:44,  1.36s/it]"
     ]
    },
    {
     "name": "stdout",
     "output_type": "stream",
     "text": [
      "Loss so far is: 3.0962029869232945\n"
     ]
    },
    {
     "name": "stderr",
     "output_type": "stream",
     "text": [
      "Epoch 1/10:   7%|▋         | 300/4418 [06:55<1:34:06,  1.37s/it]"
     ]
    },
    {
     "name": "stdout",
     "output_type": "stream",
     "text": [
      "Loss so far is: 3.0494830353204225\n"
     ]
    },
    {
     "name": "stderr",
     "output_type": "stream",
     "text": [
      "Epoch 1/10:   9%|▉         | 400/4418 [09:06<1:26:07,  1.29s/it]"
     ]
    },
    {
     "name": "stdout",
     "output_type": "stream",
     "text": [
      "Loss so far is: 3.0180560484864656\n"
     ]
    },
    {
     "name": "stderr",
     "output_type": "stream",
     "text": [
      "Epoch 1/10:  11%|█▏        | 500/4418 [11:14<1:23:56,  1.29s/it]"
     ]
    },
    {
     "name": "stdout",
     "output_type": "stream",
     "text": [
      "Loss so far is: 3.0021382305091753\n"
     ]
    },
    {
     "name": "stderr",
     "output_type": "stream",
     "text": [
      "Epoch 1/10:  14%|█▎        | 600/4418 [13:23<1:21:12,  1.28s/it]"
     ]
    },
    {
     "name": "stdout",
     "output_type": "stream",
     "text": [
      "Loss so far is: 2.9899919745520083\n"
     ]
    },
    {
     "name": "stderr",
     "output_type": "stream",
     "text": [
      "Epoch 1/10:  16%|█▌        | 700/4418 [15:30<1:19:42,  1.29s/it]"
     ]
    },
    {
     "name": "stdout",
     "output_type": "stream",
     "text": [
      "Loss so far is: 2.979787701359805\n"
     ]
    },
    {
     "name": "stderr",
     "output_type": "stream",
     "text": [
      "Epoch 1/10:  18%|█▊        | 800/4418 [17:38<1:16:23,  1.27s/it]"
     ]
    },
    {
     "name": "stdout",
     "output_type": "stream",
     "text": [
      "Loss so far is: 2.972508473748409\n"
     ]
    },
    {
     "name": "stderr",
     "output_type": "stream",
     "text": [
      "Epoch 1/10:  20%|██        | 900/4418 [19:45<1:14:25,  1.27s/it]"
     ]
    },
    {
     "name": "stdout",
     "output_type": "stream",
     "text": [
      "Loss so far is: 2.966315914446838\n"
     ]
    },
    {
     "name": "stderr",
     "output_type": "stream",
     "text": [
      "Epoch 1/10:  23%|██▎       | 1000/4418 [21:53<1:12:37,  1.27s/it]"
     ]
    },
    {
     "name": "stdout",
     "output_type": "stream",
     "text": [
      "Loss so far is: 2.960764994731059\n"
     ]
    },
    {
     "name": "stderr",
     "output_type": "stream",
     "text": [
      "Epoch 1/10:  25%|██▍       | 1100/4418 [24:01<1:10:41,  1.28s/it]"
     ]
    },
    {
     "name": "stdout",
     "output_type": "stream",
     "text": [
      "Loss so far is: 2.9568673440605213\n"
     ]
    },
    {
     "name": "stderr",
     "output_type": "stream",
     "text": [
      "Epoch 1/10:  27%|██▋       | 1200/4418 [26:09<1:09:09,  1.29s/it]"
     ]
    },
    {
     "name": "stdout",
     "output_type": "stream",
     "text": [
      "Loss so far is: 2.9530338728000363\n"
     ]
    },
    {
     "name": "stderr",
     "output_type": "stream",
     "text": [
      "Epoch 1/10:  29%|██▉       | 1300/4418 [28:17<1:07:00,  1.29s/it]"
     ]
    },
    {
     "name": "stdout",
     "output_type": "stream",
     "text": [
      "Loss so far is: 2.948928836495074\n"
     ]
    },
    {
     "name": "stderr",
     "output_type": "stream",
     "text": [
      "Epoch 1/10:  32%|███▏      | 1400/4418 [30:26<1:04:44,  1.29s/it]"
     ]
    },
    {
     "name": "stdout",
     "output_type": "stream",
     "text": [
      "Loss so far is: 2.9457534688809157\n"
     ]
    },
    {
     "name": "stderr",
     "output_type": "stream",
     "text": [
      "Epoch 1/10:  34%|███▍      | 1500/4418 [32:35<1:02:49,  1.29s/it]"
     ]
    },
    {
     "name": "stdout",
     "output_type": "stream",
     "text": [
      "Loss so far is: 2.943090080499172\n"
     ]
    },
    {
     "name": "stderr",
     "output_type": "stream",
     "text": [
      "Epoch 1/10:  36%|███▌      | 1600/4418 [34:45<1:00:32,  1.29s/it]"
     ]
    },
    {
     "name": "stdout",
     "output_type": "stream",
     "text": [
      "Loss so far is: 2.941162039295743\n"
     ]
    },
    {
     "name": "stderr",
     "output_type": "stream",
     "text": [
      "Epoch 1/10:  38%|███▊      | 1700/4418 [36:54<59:08,  1.31s/it]  "
     ]
    },
    {
     "name": "stdout",
     "output_type": "stream",
     "text": [
      "Loss so far is: 2.940208911895752\n"
     ]
    },
    {
     "name": "stderr",
     "output_type": "stream",
     "text": [
      "Epoch 1/10:  41%|████      | 1800/4418 [39:04<56:32,  1.30s/it]"
     ]
    },
    {
     "name": "stdout",
     "output_type": "stream",
     "text": [
      "Loss so far is: 2.9384285588606387\n"
     ]
    },
    {
     "name": "stderr",
     "output_type": "stream",
     "text": [
      "Epoch 1/10:  43%|████▎     | 1900/4418 [41:14<54:32,  1.30s/it]"
     ]
    },
    {
     "name": "stdout",
     "output_type": "stream",
     "text": [
      "Loss so far is: 2.9367279799251946\n"
     ]
    },
    {
     "name": "stderr",
     "output_type": "stream",
     "text": [
      "Epoch 1/10:  45%|████▌     | 2000/4418 [43:24<52:51,  1.31s/it]"
     ]
    },
    {
     "name": "stdout",
     "output_type": "stream",
     "text": [
      "Loss so far is: 2.9351540810469094\n"
     ]
    },
    {
     "name": "stderr",
     "output_type": "stream",
     "text": [
      "Epoch 1/10:  48%|████▊     | 2100/4418 [45:34<50:21,  1.30s/it]"
     ]
    },
    {
     "name": "stdout",
     "output_type": "stream",
     "text": [
      "Loss so far is: 2.9337767230266047\n"
     ]
    },
    {
     "name": "stderr",
     "output_type": "stream",
     "text": [
      "Epoch 1/10:  50%|████▉     | 2200/4418 [47:45<48:00,  1.30s/it]"
     ]
    },
    {
     "name": "stdout",
     "output_type": "stream",
     "text": [
      "Loss so far is: 2.9326644720083586\n"
     ]
    },
    {
     "name": "stderr",
     "output_type": "stream",
     "text": [
      "Epoch 1/10:  52%|█████▏    | 2300/4418 [49:55<46:27,  1.32s/it]"
     ]
    },
    {
     "name": "stdout",
     "output_type": "stream",
     "text": [
      "Loss so far is: 2.932642977462742\n"
     ]
    },
    {
     "name": "stderr",
     "output_type": "stream",
     "text": [
      "Epoch 1/10:  54%|█████▍    | 2400/4418 [52:05<43:55,  1.31s/it]"
     ]
    },
    {
     "name": "stdout",
     "output_type": "stream",
     "text": [
      "Loss so far is: 2.9319104932655438\n"
     ]
    },
    {
     "name": "stderr",
     "output_type": "stream",
     "text": [
      "Epoch 1/10:  57%|█████▋    | 2500/4418 [54:16<41:25,  1.30s/it]"
     ]
    },
    {
     "name": "stdout",
     "output_type": "stream",
     "text": [
      "Loss so far is: 2.931264463640681\n"
     ]
    },
    {
     "name": "stderr",
     "output_type": "stream",
     "text": [
      "Epoch 1/10:  59%|█████▉    | 2600/4418 [56:27<39:43,  1.31s/it]"
     ]
    },
    {
     "name": "stdout",
     "output_type": "stream",
     "text": [
      "Loss so far is: 2.930085625268717\n"
     ]
    },
    {
     "name": "stderr",
     "output_type": "stream",
     "text": [
      "Epoch 1/10:  61%|██████    | 2700/4418 [58:38<37:15,  1.30s/it]"
     ]
    },
    {
     "name": "stdout",
     "output_type": "stream",
     "text": [
      "Loss so far is: 2.929685355469491\n"
     ]
    },
    {
     "name": "stderr",
     "output_type": "stream",
     "text": [
      "Epoch 1/10:  63%|██████▎   | 2800/4418 [1:00:48<35:15,  1.31s/it]"
     ]
    },
    {
     "name": "stdout",
     "output_type": "stream",
     "text": [
      "Loss so far is: 2.9292165134241857\n"
     ]
    },
    {
     "name": "stderr",
     "output_type": "stream",
     "text": [
      "Epoch 1/10:  66%|██████▌   | 2900/4418 [1:02:59<33:08,  1.31s/it]"
     ]
    },
    {
     "name": "stdout",
     "output_type": "stream",
     "text": [
      "Loss so far is: 2.9280968900794364\n"
     ]
    },
    {
     "name": "stderr",
     "output_type": "stream",
     "text": [
      "Epoch 1/10:  68%|██████▊   | 3000/4418 [1:05:09<30:52,  1.31s/it]"
     ]
    },
    {
     "name": "stdout",
     "output_type": "stream",
     "text": [
      "Loss so far is: 2.926806284769967\n"
     ]
    },
    {
     "name": "stderr",
     "output_type": "stream",
     "text": [
      "Epoch 1/10:  70%|███████   | 3100/4418 [1:07:34<28:42,  1.31s/it]  "
     ]
    },
    {
     "name": "stdout",
     "output_type": "stream",
     "text": [
      "Loss so far is: 2.926285882810117\n"
     ]
    },
    {
     "name": "stderr",
     "output_type": "stream",
     "text": [
      "Epoch 1/10:  72%|███████▏  | 3200/4418 [1:09:44<26:32,  1.31s/it]"
     ]
    },
    {
     "name": "stdout",
     "output_type": "stream",
     "text": [
      "Loss so far is: 2.925504752865953\n"
     ]
    },
    {
     "name": "stderr",
     "output_type": "stream",
     "text": [
      "Epoch 1/10:  75%|███████▍  | 3300/4418 [1:11:55<24:25,  1.31s/it]"
     ]
    },
    {
     "name": "stdout",
     "output_type": "stream",
     "text": [
      "Loss so far is: 2.9246527859571305\n"
     ]
    },
    {
     "name": "stderr",
     "output_type": "stream",
     "text": [
      "Epoch 1/10:  77%|███████▋  | 3400/4418 [1:14:05<21:56,  1.29s/it]"
     ]
    },
    {
     "name": "stdout",
     "output_type": "stream",
     "text": [
      "Loss so far is: 2.9242315274121027\n"
     ]
    },
    {
     "name": "stderr",
     "output_type": "stream",
     "text": [
      "Epoch 1/10:  79%|███████▉  | 3500/4418 [1:16:16<19:50,  1.30s/it]"
     ]
    },
    {
     "name": "stdout",
     "output_type": "stream",
     "text": [
      "Loss so far is: 2.9236253104437484\n"
     ]
    },
    {
     "name": "stderr",
     "output_type": "stream",
     "text": [
      "Epoch 1/10:  81%|████████▏ | 3600/4418 [1:18:26<17:37,  1.29s/it]"
     ]
    },
    {
     "name": "stdout",
     "output_type": "stream",
     "text": [
      "Loss so far is: 2.9224916320603636\n"
     ]
    },
    {
     "name": "stderr",
     "output_type": "stream",
     "text": [
      "Epoch 1/10:  84%|████████▎ | 3700/4418 [1:20:36<15:31,  1.30s/it]"
     ]
    },
    {
     "name": "stdout",
     "output_type": "stream",
     "text": [
      "Loss so far is: 2.921131334230042\n"
     ]
    },
    {
     "name": "stderr",
     "output_type": "stream",
     "text": [
      "Epoch 1/10:  86%|████████▌ | 3800/4418 [1:22:46<13:23,  1.30s/it]"
     ]
    },
    {
     "name": "stdout",
     "output_type": "stream",
     "text": [
      "Loss so far is: 2.920829012005478\n"
     ]
    },
    {
     "name": "stderr",
     "output_type": "stream",
     "text": [
      "Epoch 1/10:  88%|████████▊ | 3900/4418 [1:24:57<11:22,  1.32s/it]"
     ]
    },
    {
     "name": "stdout",
     "output_type": "stream",
     "text": [
      "Loss so far is: 2.920508117913038\n"
     ]
    },
    {
     "name": "stderr",
     "output_type": "stream",
     "text": [
      "Epoch 1/10:  91%|█████████ | 4000/4418 [1:27:08<09:06,  1.31s/it]"
     ]
    },
    {
     "name": "stdout",
     "output_type": "stream",
     "text": [
      "Loss so far is: 2.9205526217546245\n"
     ]
    },
    {
     "name": "stderr",
     "output_type": "stream",
     "text": [
      "Epoch 1/10:  93%|█████████▎| 4100/4418 [1:29:18<06:53,  1.30s/it]"
     ]
    },
    {
     "name": "stdout",
     "output_type": "stream",
     "text": [
      "Loss so far is: 2.920360750906582\n"
     ]
    },
    {
     "name": "stderr",
     "output_type": "stream",
     "text": [
      "Epoch 1/10:  95%|█████████▌| 4200/4418 [1:31:29<04:45,  1.31s/it]"
     ]
    },
    {
     "name": "stdout",
     "output_type": "stream",
     "text": [
      "Loss so far is: 2.9201722737294373\n"
     ]
    },
    {
     "name": "stderr",
     "output_type": "stream",
     "text": [
      "Epoch 1/10:  97%|█████████▋| 4300/4418 [1:33:39<02:35,  1.32s/it]"
     ]
    },
    {
     "name": "stdout",
     "output_type": "stream",
     "text": [
      "Loss so far is: 2.9197919944963724\n"
     ]
    },
    {
     "name": "stderr",
     "output_type": "stream",
     "text": [
      "Epoch 1/10: 100%|█████████▉| 4400/4418 [1:35:50<00:23,  1.31s/it]"
     ]
    },
    {
     "name": "stdout",
     "output_type": "stream",
     "text": [
      "Loss so far is: 2.919723436436238\n"
     ]
    },
    {
     "name": "stderr",
     "output_type": "stream",
     "text": [
      "                                                                 \r"
     ]
    },
    {
     "name": "stdout",
     "output_type": "stream",
     "text": [
      "\n",
      "Epoch: 0\n",
      "Train Loss: 2.9189488146843656\n",
      "Val Loss: 2.9067098959898336\n"
     ]
    },
    {
     "name": "stderr",
     "output_type": "stream",
     "text": [
      "Epoch 2/10:   2%|▏         | 100/4418 [02:05<1:30:36,  1.26s/it]"
     ]
    },
    {
     "name": "stdout",
     "output_type": "stream",
     "text": [
      "Loss so far is: 2.933494970051929\n"
     ]
    },
    {
     "name": "stderr",
     "output_type": "stream",
     "text": [
      "Epoch 2/10:   5%|▍         | 200/4418 [04:11<1:28:33,  1.26s/it]"
     ]
    },
    {
     "name": "stdout",
     "output_type": "stream",
     "text": [
      "Loss so far is: 2.921930007599107\n"
     ]
    },
    {
     "name": "stderr",
     "output_type": "stream",
     "text": [
      "Epoch 2/10:   7%|▋         | 300/4418 [06:18<1:27:06,  1.27s/it]"
     ]
    },
    {
     "name": "stdout",
     "output_type": "stream",
     "text": [
      "Loss so far is: 2.916942979181092\n"
     ]
    },
    {
     "name": "stderr",
     "output_type": "stream",
     "text": [
      "Epoch 2/10:   9%|▉         | 400/4418 [08:25<1:24:55,  1.27s/it]"
     ]
    },
    {
     "name": "stdout",
     "output_type": "stream",
     "text": [
      "Loss so far is: 2.9153878527476373\n"
     ]
    },
    {
     "name": "stderr",
     "output_type": "stream",
     "text": [
      "Epoch 2/10:  11%|█▏        | 500/4418 [10:32<1:22:38,  1.27s/it]"
     ]
    },
    {
     "name": "stdout",
     "output_type": "stream",
     "text": [
      "Loss so far is: 2.914412021636963\n"
     ]
    },
    {
     "name": "stderr",
     "output_type": "stream",
     "text": [
      "Epoch 2/10:  14%|█▎        | 600/4418 [12:38<1:20:53,  1.27s/it]"
     ]
    },
    {
     "name": "stdout",
     "output_type": "stream",
     "text": [
      "Loss so far is: 2.9107060133913323\n"
     ]
    },
    {
     "name": "stderr",
     "output_type": "stream",
     "text": [
      "Epoch 2/10:  16%|█▌        | 700/4418 [14:46<1:18:03,  1.26s/it]"
     ]
    },
    {
     "name": "stdout",
     "output_type": "stream",
     "text": [
      "Loss so far is: 2.905799565908735\n"
     ]
    },
    {
     "name": "stderr",
     "output_type": "stream",
     "text": [
      "Epoch 2/10:  18%|█▊        | 800/4418 [16:53<1:17:21,  1.28s/it]"
     ]
    },
    {
     "name": "stdout",
     "output_type": "stream",
     "text": [
      "Loss so far is: 2.9013913513274305\n"
     ]
    },
    {
     "name": "stderr",
     "output_type": "stream",
     "text": [
      "Epoch 2/10:  20%|██        | 900/4418 [19:00<1:14:38,  1.27s/it]"
     ]
    },
    {
     "name": "stdout",
     "output_type": "stream",
     "text": [
      "Loss so far is: 2.896780491936061\n"
     ]
    },
    {
     "name": "stderr",
     "output_type": "stream",
     "text": [
      "Epoch 2/10:  23%|██▎       | 1000/4418 [21:07<1:12:34,  1.27s/it]"
     ]
    },
    {
     "name": "stdout",
     "output_type": "stream",
     "text": [
      "Loss so far is: 2.8931444077878385\n"
     ]
    },
    {
     "name": "stderr",
     "output_type": "stream",
     "text": [
      "Epoch 2/10:  25%|██▍       | 1100/4418 [23:15<1:11:05,  1.29s/it]"
     ]
    },
    {
     "name": "stdout",
     "output_type": "stream",
     "text": [
      "Loss so far is: 2.890477360542304\n"
     ]
    },
    {
     "name": "stderr",
     "output_type": "stream",
     "text": [
      "Epoch 2/10:  27%|██▋       | 1200/4418 [25:23<1:08:49,  1.28s/it]"
     ]
    },
    {
     "name": "stdout",
     "output_type": "stream",
     "text": [
      "Loss so far is: 2.8925099420587257\n"
     ]
    },
    {
     "name": "stderr",
     "output_type": "stream",
     "text": [
      "Epoch 2/10:  29%|██▉       | 1300/4418 [27:31<1:06:43,  1.28s/it]"
     ]
    },
    {
     "name": "stdout",
     "output_type": "stream",
     "text": [
      "Loss so far is: 2.8923405652049876\n"
     ]
    },
    {
     "name": "stderr",
     "output_type": "stream",
     "text": [
      "Epoch 2/10:  32%|███▏      | 1400/4418 [29:39<1:04:09,  1.28s/it]"
     ]
    },
    {
     "name": "stdout",
     "output_type": "stream",
     "text": [
      "Loss so far is: 2.8928085730023008\n"
     ]
    },
    {
     "name": "stderr",
     "output_type": "stream",
     "text": [
      "Epoch 2/10:  34%|███▍      | 1500/4418 [31:47<1:02:08,  1.28s/it]"
     ]
    },
    {
     "name": "stdout",
     "output_type": "stream",
     "text": [
      "Loss so far is: 2.894107369123259\n"
     ]
    },
    {
     "name": "stderr",
     "output_type": "stream",
     "text": [
      "Epoch 2/10:  36%|███▌      | 1600/4418 [33:56<1:00:28,  1.29s/it]"
     ]
    },
    {
     "name": "stdout",
     "output_type": "stream",
     "text": [
      "Loss so far is: 2.894778394639455\n"
     ]
    },
    {
     "name": "stderr",
     "output_type": "stream",
     "text": [
      "Epoch 2/10:  38%|███▊      | 1700/4418 [36:05<58:00,  1.28s/it]  "
     ]
    },
    {
     "name": "stdout",
     "output_type": "stream",
     "text": [
      "Loss so far is: 2.8951566535069566\n"
     ]
    },
    {
     "name": "stderr",
     "output_type": "stream",
     "text": [
      "Epoch 2/10:  41%|████      | 1800/4418 [38:14<55:41,  1.28s/it]"
     ]
    },
    {
     "name": "stdout",
     "output_type": "stream",
     "text": [
      "Loss so far is: 2.895473777485795\n"
     ]
    },
    {
     "name": "stderr",
     "output_type": "stream",
     "text": [
      "Epoch 2/10:  43%|████▎     | 1900/4418 [40:23<54:23,  1.30s/it]"
     ]
    },
    {
     "name": "stdout",
     "output_type": "stream",
     "text": [
      "Loss so far is: 2.8965829038946422\n"
     ]
    },
    {
     "name": "stderr",
     "output_type": "stream",
     "text": [
      "Epoch 2/10:  45%|████▌     | 2000/4418 [42:32<52:29,  1.30s/it]"
     ]
    },
    {
     "name": "stdout",
     "output_type": "stream",
     "text": [
      "Loss so far is: 2.896658944868934\n"
     ]
    },
    {
     "name": "stderr",
     "output_type": "stream",
     "text": [
      "Epoch 2/10:  48%|████▊     | 2100/4418 [44:42<50:16,  1.30s/it]"
     ]
    },
    {
     "name": "stdout",
     "output_type": "stream",
     "text": [
      "Loss so far is: 2.896775919008732\n"
     ]
    },
    {
     "name": "stderr",
     "output_type": "stream",
     "text": [
      "Epoch 2/10:  50%|████▉     | 2200/4418 [46:57<47:54,  1.30s/it]  "
     ]
    },
    {
     "name": "stdout",
     "output_type": "stream",
     "text": [
      "Loss so far is: 2.8964492426833655\n"
     ]
    },
    {
     "name": "stderr",
     "output_type": "stream",
     "text": [
      "Epoch 2/10:  52%|█████▏    | 2300/4418 [49:21<54:21,  1.54s/it]  "
     ]
    },
    {
     "name": "stdout",
     "output_type": "stream",
     "text": [
      "Loss so far is: 2.8960590024469415\n"
     ]
    },
    {
     "name": "stderr",
     "output_type": "stream",
     "text": [
      "Epoch 2/10:  54%|█████▍    | 2400/4418 [51:37<45:03,  1.34s/it]"
     ]
    },
    {
     "name": "stdout",
     "output_type": "stream",
     "text": [
      "Loss so far is: 2.8961651152300307\n"
     ]
    },
    {
     "name": "stderr",
     "output_type": "stream",
     "text": [
      "Epoch 2/10:  57%|█████▋    | 2500/4418 [53:48<41:44,  1.31s/it]"
     ]
    },
    {
     "name": "stdout",
     "output_type": "stream",
     "text": [
      "Loss so far is: 2.896670117670176\n"
     ]
    },
    {
     "name": "stderr",
     "output_type": "stream",
     "text": [
      "Epoch 2/10:  59%|█████▉    | 2600/4418 [55:59<39:46,  1.31s/it]"
     ]
    },
    {
     "name": "stdout",
     "output_type": "stream",
     "text": [
      "Loss so far is: 2.8972747511201384\n"
     ]
    },
    {
     "name": "stderr",
     "output_type": "stream",
     "text": [
      "Epoch 2/10:  61%|██████    | 2700/4418 [58:10<37:19,  1.30s/it]"
     ]
    },
    {
     "name": "stdout",
     "output_type": "stream",
     "text": [
      "Loss so far is: nan\n"
     ]
    },
    {
     "name": "stderr",
     "output_type": "stream",
     "text": [
      "Epoch 2/10:  63%|██████▎   | 2779/4418 [59:53<36:39,  1.34s/it]Exception ignored in: <bound method IPythonKernel._clean_thread_parent_frames of <ipykernel.ipkernel.IPythonKernel object at 0x0000015C6BD43AD0>>\n",
      "Traceback (most recent call last):\n",
      "  File \"c:\\Programming\\Python3-12-3\\Lib\\site-packages\\ipykernel\\ipkernel.py\", line 790, in _clean_thread_parent_frames\n",
      "    active_threads = {thread.ident for thread in threading.enumerate()}\n",
      "                                                 ^^^^^^^^^^^^^^^^^^^^^\n",
      "  File \"c:\\Programming\\Python3-12-3\\Lib\\threading.py\", line 1533, in enumerate\n",
      "    def enumerate():\n",
      "    \n",
      "KeyboardInterrupt: \n",
      "Epoch 2/10:  63%|██████▎   | 2787/4418 [1:00:04<36:33,  1.35s/it]"
     ]
    }
   ],
   "source": [
    "from tqdm import tqdm\n",
    "\n",
    "# Loop setup\n",
    "model = BasicCaptionTransformer()\n",
    "model = model.to(device)\n",
    "\n",
    "loss_function = nn.CrossEntropyLoss(ignore_index=-1)\n",
    "optimizer = torch.optim.Adam(model.parameters(), lr=learning_rate, weight_decay=weight_decay)\n",
    "\n",
    "\n",
    "# Train\n",
    "predictions_per_batch = batch_size * max_length\n",
    "stop_counter = 0\n",
    "train_losses = []\n",
    "val_losses = []\n",
    "best_val_loss = float('inf')\n",
    "\n",
    "train_len = len(train_dataset_loader)\n",
    "val_len = len(valid_dataset_loader)\n",
    "\n",
    "\n",
    "for epoch in range(num_epochs):\n",
    "    model.train()\n",
    "\n",
    "    # Loop through training data loader batches\n",
    "    train_loss = 0.0\n",
    "    train_dataloader_iter = tqdm(train_dataset_loader, desc=f'Epoch {epoch + 1}/{num_epochs}', leave=False)\n",
    "    for i, data in enumerate(train_dataloader_iter):\n",
    "        \n",
    "        # Get values from data loader\n",
    "        pixel_vals = data[\"pixel_values\"].squeeze(1).to(device)\n",
    "        captions = data[\"labels\"].squeeze(1).to(device)\n",
    "\n",
    "        optimizer.zero_grad()\n",
    "        outputs = model(images=pixel_vals, captions=captions)\n",
    "\n",
    "        loss = loss_function(outputs.permute(0,2,1), captions)\n",
    "        loss.backward()\n",
    "        optimizer.step()\n",
    "\n",
    "        # save loss\n",
    "        train_loss += loss.item()\n",
    "        if i % 100 == 99:\n",
    "            print (\"Loss so far is: \" + str (train_loss / i))\n",
    "            #print (\"tensor: \", outputs)\n",
    "\n",
    "\n",
    "    # Validation\n",
    "    val_loss = 0.0\n",
    "    valid_dataset_iter = tqdm(valid_dataset_loader,  desc=f'Epoch {epoch + 1}/{num_epochs}', leave=False)\n",
    "    with torch.no_grad():\n",
    "        for i, data in enumerate(valid_dataset_iter):\n",
    "            \n",
    "            # Get values from data loader\n",
    "            pixel_vals = data[\"pixel_values\"].squeeze(1).to(device)\n",
    "            captions = data[\"labels\"].squeeze(1).to(device)\n",
    "\n",
    "            outputs = model(images=pixel_vals, captions=captions)\n",
    "            loss = loss_function(outputs.permute(0,2,1), captions)\n",
    "\n",
    "            # save loss\n",
    "            val_loss += loss.item()\n",
    "\n",
    "\n",
    "    # Save model\n",
    "    torch.save(model.state_dict(), f'./models/model_epoch_{epoch+1}.pt')\n",
    "\n",
    "    train_losses.append(train_loss / train_len)\n",
    "    val_losses.append(val_loss / val_len)\n",
    "\n",
    "    # Print losses\n",
    "    # divide by length of data loader... \n",
    "    print(\"\\nEpoch: \" + str(epoch) + \n",
    "        \"\\nTrain Loss: \" + str(train_loss / train_len) +\n",
    "        \"\\nVal Loss: \" + str(val_loss / val_len))\n",
    "\n",
    "print (train_losses)\n",
    "print (val_losses)\n"
   ]
  },
  {
   "cell_type": "markdown",
   "metadata": {},
   "source": [
    "## Post Training Metrics\n",
    "Computes the test loss and common test metrics\n",
    "\n",
    "This section does the following actions:\n",
    "1. Loads the specified model\n",
    "2. Runs through the test set and reports loss\n",
    "3. Runs through the val set for BLEU and ROUGE metrics\n",
    "4. Gives some images titles and saves them"
   ]
  },
  {
   "cell_type": "code",
   "execution_count": 1,
   "metadata": {},
   "outputs": [
    {
     "ename": "SyntaxError",
     "evalue": "invalid syntax (131980854.py, line 98)",
     "output_type": "error",
     "traceback": [
      "\u001b[1;36m  Cell \u001b[1;32mIn[1], line 98\u001b[1;36m\u001b[0m\n\u001b[1;33m    model_input =  test_dataset[i][]\u001b[0m\n\u001b[1;37m                                   ^\u001b[0m\n\u001b[1;31mSyntaxError\u001b[0m\u001b[1;31m:\u001b[0m invalid syntax\n"
     ]
    }
   ],
   "source": [
    "import evaluate\n",
    "from transformers import EvalPrediction\n",
    "from tqdm import tqdm\n",
    "import matplotlib.pyplot as plt\n",
    "\n",
    "# Load model\n",
    "MODEL_PATH = \"./models/model_epoch_8.pt\"\n",
    "LOAD_MODEL = True\n",
    "\n",
    "eval_model = None\n",
    "if LOAD_MODEL:\n",
    "       if \"model\" in locals():\n",
    "              model.to('cpu')\n",
    "\n",
    "       eval_model = BasicCaptionTransformer()\n",
    "       eval_model.load_state_dict(torch.load(MODEL_PATH))\n",
    "       eval_model = eval_model.to(device)\n",
    "\n",
    "else:\n",
    "       eval_model = model\n",
    "\n",
    "# Eval setup\n",
    "loss_function = nn.CrossEntropyLoss(ignore_index=-1)\n",
    "test_loss = 0.0\n",
    "\n",
    "predictions = []\n",
    "labels = []\n",
    "\n",
    "# Run through the test for test loss\n",
    "with torch.no_grad():\n",
    "       test_dataset_iter = tqdm(test_dataset_loader,  desc=f'Test Set Progress: ', leave=False)\n",
    "       for data in test_dataset_iter:\n",
    "\n",
    "              # get data from batch\n",
    "              pixel_vals = data[\"pixel_values\"].squeeze(1).to(device)\n",
    "              labels = data[\"labels\"].squeeze(1).to(device)\n",
    "\n",
    "              # Predict captions\n",
    "              outputs = eval_model(images=pixel_vals, captions=labels)\n",
    "              test_loss += loss_function(outputs.permute(0,2,1), labels)\n",
    "              print (test_loss)\n",
    "\n",
    "print (\"Test Loss: \" + str(test_loss / len(test_dataset_loader)))\n",
    "\n",
    "\n",
    "# Run through valadation set with best model\n",
    "predictions = []\n",
    "labels = []\n",
    "with torch.no_grad():\n",
    "       valid_dataset_iter = tqdm(valid_dataset_loader,  desc=f'Epoch {epoch + 1}/{num_epochs}', leave=False)\n",
    "       for data in valid_dataset_iter:\n",
    "\n",
    "              # get data from batch\n",
    "              pixel_vals = data[\"pixel_values\"].squeeze(1).to(device)\n",
    "              labels = data[\"labels\"].squeeze(1).to(device)\n",
    "       \n",
    "              # Predict captions\n",
    "              outputs = eval_model(images=pixel_vals, captions=labels)\n",
    "\n",
    "              # Format labels\n",
    "              logits = outputs.detach().cpu()\n",
    "              predictions.extend(logits.argmax(dim=-1).tolist())\n",
    "              labels.extend(labels.tolist())\n",
    "    \n",
    "\n",
    "# Format predictions into Hugging Face class\n",
    "eval_predictions = EvalPrediction(predictions=predictions, label_ids=labels)\n",
    "\n",
    "predictions = eval_predictions.predictions\n",
    "labels = eval_predictions.label_ids\n",
    "\n",
    "# Tokenize predictions and reference captions\n",
    "predictions_str = tokenizer.batch_decode(predictions, skip_special_tokens=True)\n",
    "labels_str = tokenizer.batch_decode(labels, skip_special_tokens=True)\n",
    "\n",
    "\n",
    "# Load test evaluators\n",
    "rouge = evaluate.load(\"rouge\")\n",
    "bleu = evaluate.load(\"bleu\")\n",
    "\n",
    "# Compute and print Rouge-1, Rogue-2, RougeL\n",
    "rouge_result = rouge.compute(predictions=predictions_str, references=labels_str)\n",
    "rouge_result = {k: round(v * 100, 4) for k, v in rouge_result.items()}\n",
    "print (\"ROUGE Metrics: \\nROUGE-1: \" + rouge_result.get(\"rouge1\", 0) + \n",
    "       \"\\nROUGE-2: \" + rouge_result.get(\"rouge2\", 0) + \n",
    "       \"\\nROUGE-L: \" + rouge_result.get(\"rougeL\", 0))\n",
    "\n",
    "\n",
    "# Compute and print BLEU metrics\n",
    "bleu_result = bleu.compute(predictions=predictions_str, references=labels_str)\n",
    "bleu_score = round(bleu_result[\"bleu\"] * 100, 4)\n",
    "print (\"BLEU Metrics: \" + bleu_score)\n",
    "\n",
    "\n",
    "# Get first 16 images and give them captiosn\n",
    "for i in range(16):\n",
    "       file_path = test_dataset[i][\"image_file\"]\n",
    "       model_input =  test_dataset[i][\"pixel_values\"]\n",
    "\n",
    "       fig, ax = plt.subplot_mosaic([\n",
    "       ['hopper', 'mri']\n",
    "       ], figsize=(7, 3.5))"
   ]
  },
  {
   "cell_type": "code",
   "execution_count": null,
   "metadata": {},
   "outputs": [],
   "source": []
  }
 ],
 "metadata": {
  "kernelspec": {
   "display_name": "Python 3",
   "language": "python",
   "name": "python3"
  },
  "language_info": {
   "codemirror_mode": {
    "name": "ipython",
    "version": 3
   },
   "file_extension": ".py",
   "mimetype": "text/x-python",
   "name": "python",
   "nbconvert_exporter": "python",
   "pygments_lexer": "ipython3",
   "version": "3.12.3"
  }
 },
 "nbformat": 4,
 "nbformat_minor": 2
}
